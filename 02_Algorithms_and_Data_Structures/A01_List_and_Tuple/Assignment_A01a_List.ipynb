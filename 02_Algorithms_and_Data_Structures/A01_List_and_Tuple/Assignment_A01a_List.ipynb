{
 "cells": [
  {
   "cell_type": "code",
   "execution_count": null,
   "metadata": {},
   "outputs": [],
   "source": [
    "s = \"haha\\n\\nxixi\\n\\n\\nlalala\\n\\n\"\n",
    "def str_to_lst(s):\n",
    "  return [line for line in s.split('\\n') if line]"
   ]
  },
  {
   "cell_type": "code",
   "execution_count": null,
   "metadata": {},
   "outputs": [],
   "source": [
    "class_a = [['Bob', 89],['Alice', 91],['Xiao Ming', 90]]\n",
    "class_b = [['Jaina', 89],['Khadgar', 91],['Medivh', 91]]\n",
    "class_c = [['Garrosh', 49],['Magni Bronzebeard', 60],['Malfurion Stormrage', 91], ['Jaina', 89],['Khadgar', 91],['Medivh', 91], ['Rexxar', 75],['Uther', 88],['Liadrin', 70]]\n",
    "# Please do not change the values above.\n",
    "\n",
    "def find_highest(class_list):\n",
    "  if not class_list:\n",
    "    return []\n",
    "\n",
    "   if not class_list:\n",
    "       return []\n",
    "   max_score = max(student[1] for student in class_list)\n",
    "\n",
    "  highest_scorers = [student[0] for student in class_list if student[1] == max_score]\n",
    "  return highest_scorers\n"
   ]
  },
  {
   "cell_type": "code",
   "execution_count": null,
   "metadata": {},
   "outputs": [],
   "source": [
    "def find_repetition(num_list):\n",
    "    seen = set()\n",
    "    repeated = set()\n",
    "    for num in num_list:\n",
    "        if num in seen:\n",
    "            repeated.add(num)\n",
    "        else:\n",
    "            seen.add(num)\n",
    "    return list(repeated)"
   ]
  },
  {
   "cell_type": "code",
   "execution_count": null,
   "metadata": {},
   "outputs": [],
   "source": [
    "phone_numbers = [\"133-3133-9873\", \"154-2939-2378\", \"1542-3879-123\", \"134-2321-4657\", \"1325-523-5656\"]\n",
    "\n",
    "def get_largest_number(phone_numbers):\n",
    "  if not phone_numbers:\n",
    "      return None\n",
    "  numeric_numbers = [int(num.replace('-', '')) for num in phone_numbers]\n",
    "  return phone_numbers[numeric_numbers.index(max(numeric_numbers))]"
   ]
  },
  {
   "cell_type": "code",
   "execution_count": null,
   "metadata": {},
   "outputs": [],
   "source": [
    "name_list_1 = \"Xiao Ming; Xiao Hong; Xiao Qiang\"\n",
    "name_list_2 = \"\"\"\n",
    "Larissa Ang; Eleanore Chan; Desiree Loy; Marion Chan Lai Hah; Chloe, Yang Hwee Lan;\n",
    "Gladys Low; Vicky Chia Yi Heng; Fiona, Low Siew Chin; Natasha Hoon Shi Shi; Ma Aw;\n",
    "Sam Ee; Holden Yip; Si Jiahao Geoffrey; Loy Yuan Wilton; Matt Wee;\n",
    "Kurtis Aw; Nigel Lau; Sonny Hong; Robb Zhang; Seetoh Zihao Tom\n",
    "\"\"\"\n",
    "\n",
    "def gen_email_list(new_student_names):\n",
    "    standardised_string = new_student_names.replace('\\n', ';')\n",
    "    email_list = []\n",
    "    potential_names = standardised_string.split(';')\n",
    "    for name in potential_names:\n",
    "        trimmed_name = name.strip()\n",
    "        if trimmed_name:\n",
    "            lower_name = trimmed_name.lower()\n",
    "            name_with_spaces = lower_name.replace(',', ' ')\n",
    "            name_parts = name_with_spaces.split()\n",
    "            formatted_name = '_'.join(name_parts)\n",
    "            email = f\"{formatted_name}@students.edu.sg\"\n",
    "            email_list.append(email)\n",
    "            \n",
    "    return email_list"
   ]
  }
 ],
 "metadata": {
  "language_info": {
   "name": "python"
  }
 },
 "nbformat": 4,
 "nbformat_minor": 2
}
