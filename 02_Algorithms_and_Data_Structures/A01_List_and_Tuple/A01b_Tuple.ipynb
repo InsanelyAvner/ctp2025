{
 "cells": [
  {
   "cell_type": "markdown",
   "metadata": {},
   "source": [
    "# S01b - Tuple\n",
    "\n",
    "## Syllabus\n",
    "2.2.1\tUnderstand the different data types: integer, real, char, string and Boolean; and initialise arrays (1-dimensional and 2-dimensional).  \n",
    "2.2.3\tApply the fundamental programming constructs to control the flow of program execution:\n",
    "- Sequence\n",
    "- Selection\n",
    "- Iteration\n",
    "\n",
    "## Understanding Goals\n",
    "\n",
    "At the end of this chapter, you should be able to:\n",
    "- Create tuples, access elements in a tuple and update values of elements in a tuple\n",
    "- Understand tuple is immutable\n",
    "- Apply common tuple related functions to manipulate a tuple and its elements\n"
   ]
  },
  {
   "cell_type": "markdown",
   "metadata": {},
   "source": [
    "## Section 1 - Introduction to Tuple\n",
    "\n",
    "### _1.1 What is a Tuple?_\n",
    "\n",
    "A tuple is a **collection** which is **ordered** and **immutable/unchangeable**.\n",
    "\n",
    "### _1.2 Creating a tuple_\n",
    "\n",
    "We can create tuples by including values in the `( )`. \n",
    "\n",
    "Special Cases:\n",
    "- An empty tuple can be created if no values are given by using `( )`.\n",
    "- A tuple with only 1 element need to be created using `(ele, )` to differentiate from normal brackets `(ele)`.\n",
    "\n",
    "#### ~ Example ~"
   ]
  },
  {
   "cell_type": "code",
   "execution_count": 1,
   "metadata": {},
   "outputs": [
    {
     "name": "stdout",
     "output_type": "stream",
     "text": [
      "(1, 2, 3)\n",
      "()\n",
      "(1,)\n"
     ]
    }
   ],
   "source": [
    "tup_1 = (1, 2, 3)\n",
    "tup_2 = ()\n",
    "tup_3 = (1,)\n",
    "\n",
    "print(tup_1)\n",
    "print(tup_2)\n",
    "print(tup_3)"
   ]
  },
  {
   "cell_type": "markdown",
   "metadata": {},
   "source": [
    "### _1.3 Access elements in a tuple_\n",
    "\n",
    "We can access elements in a tuple by using the index of the respective elements. \n",
    "\n",
    "- If we try to access an element with an index greater than or equals to the total length of the tuple, an `IndexError` will be raised.\n",
    "- If we try to modify the value of element in a tuple, a `TypeError` will be raised as it is immutable.\n",
    "\n",
    "#### ~ Example ~"
   ]
  },
  {
   "cell_type": "code",
   "execution_count": null,
   "metadata": {},
   "outputs": [],
   "source": [
    "print(tup_1[2])\n",
    "print(tup_3[0])\n",
    "\n",
    "# tup_3[0] = 2"
   ]
  },
  {
   "cell_type": "markdown",
   "metadata": {},
   "source": [
    "## Section 2 - Common Tuple Operations\n",
    "\n",
    "### _2.1 Tuple Concatenation_\n",
    "\n",
    "We can simply concatenate tuples into a **new** tuple by using the `+` operator.\n",
    "\n",
    "#### ~ Example ~"
   ]
  },
  {
   "cell_type": "code",
   "execution_count": null,
   "metadata": {},
   "outputs": [],
   "source": [
    "tup_a = (1, 2, 3)\n",
    "tup_b = (\"x\", \"y\", \"z\")\n",
    "\n",
    "tup_c = tup_a + tup_b\n",
    "print(tup_a)\n",
    "print(tup_b)\n",
    "print(tup_c)"
   ]
  },
  {
   "cell_type": "markdown",
   "metadata": {},
   "source": [
    "### _2.2 Tuple Slicing_\n",
    "\n",
    "Similar to string slicing operations, we can also use slicing operations on a tuple object. Take note that the result is a **new** tuple object.\n",
    "\n",
    "#### ~ Example ~"
   ]
  },
  {
   "cell_type": "code",
   "execution_count": null,
   "metadata": {},
   "outputs": [],
   "source": [
    "tup_c = (1, 2, 3, 'x', 'y', 'z')\n",
    "tup_d = tup_c[1::2]\n",
    "\n",
    "print(tup_c)\n",
    "print(tup_d)"
   ]
  },
  {
   "cell_type": "markdown",
   "metadata": {},
   "source": [
    "## Section 3 - Common Tuple Related Functions\n",
    "\n",
    "### _3.1 `len()`_\n",
    "\n",
    "Similar to strings, we can also use `len()` to get the length of a tuple, or the total number of elements in a tuple.\n",
    "\n",
    "#### ~ Example ~"
   ]
  },
  {
   "cell_type": "code",
   "execution_count": null,
   "metadata": {
    "scrolled": true
   },
   "outputs": [],
   "source": [
    "tup_c = (1, 2, 3, 'x', 'y', 'z')\n",
    "print(len(tup_c))"
   ]
  },
  {
   "cell_type": "markdown",
   "metadata": {},
   "source": [
    "### _3.2 `index()` function_\n",
    "\n",
    "We can find the `index` of the first occurance of an element by using the `index()` function. An `ValueError` will be returned in the element cannot be found in the tuple.\n",
    "\n",
    "#### ~ Example ~"
   ]
  },
  {
   "cell_type": "code",
   "execution_count": null,
   "metadata": {},
   "outputs": [],
   "source": [
    "fruits = (\"apple\", \"orange\", \"banana\", \"kiwi\")\n",
    "\n",
    "print(fruits.index(\"orange\"))\n",
    "# print(fruits.index(\"watermelon\"))"
   ]
  },
  {
   "cell_type": "markdown",
   "metadata": {},
   "source": [
    "## Section 4 - Loops and Function Calls using Tuple\n",
    "\n",
    "### _4.1 Traversing through a tuple_\n",
    "\n",
    "We can traverse through a tuple using `for` and `while` loops just like strings.\n",
    "\n",
    "#### ~ Example ~"
   ]
  },
  {
   "cell_type": "code",
   "execution_count": null,
   "metadata": {},
   "outputs": [],
   "source": [
    "fruits = (\"apple\", \"orange\", \"banana\", \"kiwi\")\n",
    "\n",
    "# while loop\n",
    "index = 0\n",
    "while index < len(fruits):\n",
    "    print(fruits[index])\n",
    "    index += 1"
   ]
  },
  {
   "cell_type": "code",
   "execution_count": null,
   "metadata": {},
   "outputs": [],
   "source": [
    "fruits = (\"apple\", \"orange\", \"banana\", \"kiwi\")\n",
    "\n",
    "# for loop using index\n",
    "for i in range(len(fruits)):\n",
    "    print(fruits[i])\n"
   ]
  },
  {
   "cell_type": "code",
   "execution_count": null,
   "metadata": {},
   "outputs": [],
   "source": [
    "fruits = (\"apple\", \"orange\", \"banana\", \"kiwi\")\n",
    "\n",
    "# for loop using items in a collection\n",
    "for fruit in fruits:\n",
    "    print(fruit)"
   ]
  }
 ],
 "metadata": {
  "kernelspec": {
   "display_name": "Python 3",
   "language": "python",
   "name": "python3"
  },
  "language_info": {
   "codemirror_mode": {
    "name": "ipython",
    "version": 3
   },
   "file_extension": ".py",
   "mimetype": "text/x-python",
   "name": "python",
   "nbconvert_exporter": "python",
   "pygments_lexer": "ipython3",
   "version": "3.9.6"
  }
 },
 "nbformat": 4,
 "nbformat_minor": 2
}
