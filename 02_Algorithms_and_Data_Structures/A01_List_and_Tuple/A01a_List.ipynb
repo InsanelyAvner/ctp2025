{
 "cells": [
  {
   "cell_type": "markdown",
   "metadata": {},
   "source": [
    "# S01a - List\n",
    "\n",
    "## Syllabus\n",
    "2.2.1\tUnderstand the different data types: integer, real, char, string and Boolean; and initialise arrays (1-dimensional and 2-dimensional).  \n",
    "2.2.3\tApply the fundamental programming constructs to control the flow of program execution:\n",
    "- Sequence\n",
    "- Selection\n",
    "- Iteration\n",
    "\n",
    "## Understanding Goals\n",
    "\n",
    "At the end of this chapter, you should be able to:\n",
    "- Create lists, access elements in a list and update values of elements in a list\n",
    "- Apply common list operations such as concatination and slicing\n",
    "- Apply common list related functions to manipulate a list and its elements\n",
    "- Manipulate 1-dimensional and 2-dimensional arrays/lists\n"
   ]
  },
  {
   "cell_type": "markdown",
   "metadata": {},
   "source": [
    "## Section 1 - Introduction to List\n",
    "\n",
    "### _1.1 What is a List?_\n",
    "\n",
    "List is a **collection** which is **ordered** and **changeable**. It allows duplicate members.\n",
    "\n",
    "### _1.2 Creating a list_\n",
    "\n",
    "We can create lists by including values in the `[]`. An empty list can be created if no values are given.\n",
    "\n",
    "#### ~ Example ~"
   ]
  },
  {
   "cell_type": "code",
   "execution_count": 2,
   "metadata": {},
   "outputs": [
    {
     "name": "stdout",
     "output_type": "stream",
     "text": [
      "[1, 2, 3]\n",
      "['x', 'y', 'z']\n",
      "['1', True, 1002, 1002]\n",
      "[]\n"
     ]
    }
   ],
   "source": [
    "lst_a = [1, 2, 3]\n",
    "lst_b = [\"x\", \"y\", \"z\"]\n",
    "\n",
    "# list can contain elements of different data types\n",
    "lst_c = [\"1\", True, 1002, 1002]\n",
    "lst_d = []\n",
    "\n",
    "print(lst_a)\n",
    "print(lst_b)\n",
    "print(lst_c)\n",
    "print(lst_d)"
   ]
  },
  {
   "cell_type": "markdown",
   "metadata": {},
   "source": [
    "### _1.3 Access elements in a list_\n",
    "\n",
    "We can access elements in a list by using the index of the respective elements. However, if we try to access an element with an index greater than or equals to the total length of the list, an `IndexError` will be raised.\n",
    "\n",
    "#### ~ Example ~"
   ]
  },
  {
   "cell_type": "code",
   "execution_count": 16,
   "metadata": {},
   "outputs": [
    {
     "name": "stdout",
     "output_type": "stream",
     "text": [
      "1\n",
      "y\n",
      "3\n",
      "y\n"
     ]
    }
   ],
   "source": [
    "print(lst_a[0])\n",
    "print(lst_b[1])\n",
    "print(lst_c[2])\n",
    "# Uncomment the following line to see what happens when index exceeds length of list\n",
    "print(lst_c[4])"
   ]
  },
  {
   "cell_type": "markdown",
   "metadata": {},
   "source": [
    "### _1.4 Updates values of elements in a list_\n",
    "\n",
    "Unlike strings, list is mutable. Hence we can update/change the values of the elements easily.\n",
    "\n",
    "#### ~ Example ~"
   ]
  },
  {
   "cell_type": "code",
   "execution_count": 4,
   "metadata": {},
   "outputs": [
    {
     "name": "stdout",
     "output_type": "stream",
     "text": [
      "[100, 2, 3]\n",
      "['x', 'haha', 'z']\n",
      "[1, True, 1002, 1002]\n"
     ]
    }
   ],
   "source": [
    "lst_a[0] = 100\n",
    "lst_b[1] = \"haha\"\n",
    "lst_c[0] = 1\n",
    "\n",
    "print(lst_a)\n",
    "print(lst_b)\n",
    "print(lst_c)"
   ]
  },
  {
   "cell_type": "markdown",
   "metadata": {},
   "source": [
    "## Section 2 - Common List Operations\n",
    "\n",
    "### _2.1 List Concatenation_\n",
    "\n",
    "We can simply concatenate lists into a **new** list by using the `+` operator.\n",
    "\n",
    "#### ~ Example ~"
   ]
  },
  {
   "cell_type": "code",
   "execution_count": 5,
   "metadata": {},
   "outputs": [
    {
     "name": "stdout",
     "output_type": "stream",
     "text": [
      "[1, 2, 3]\n",
      "['x', 'y', 'z']\n",
      "[1, 2, 3, 'x', 'y', 'z']\n"
     ]
    }
   ],
   "source": [
    "lst_a = [1, 2, 3]\n",
    "lst_b = [\"x\", \"y\", \"z\"]\n",
    "\n",
    "lst_c = lst_a + lst_b\n",
    "print(lst_a)\n",
    "print(lst_b)\n",
    "print(lst_c)"
   ]
  },
  {
   "cell_type": "markdown",
   "metadata": {},
   "source": [
    "### _2.2 List Slicing_\n",
    "\n",
    "Similar to string slicing operations, we can also use slicing operations on a list object. Take note that the result is a **new** list object.\n",
    "\n",
    "#### ~ Example ~"
   ]
  },
  {
   "cell_type": "code",
   "execution_count": 6,
   "metadata": {},
   "outputs": [
    {
     "name": "stdout",
     "output_type": "stream",
     "text": [
      "[1, 2, 3, 'x', 'y', 'z']\n",
      "[2, 'x', 'z']\n"
     ]
    }
   ],
   "source": [
    "lst_c = [1, 2, 3, 'x', 'y', 'z']\n",
    "lst_d = lst_c[1::2]\n",
    "\n",
    "print(lst_c)\n",
    "print(lst_d)"
   ]
  },
  {
   "cell_type": "markdown",
   "metadata": {},
   "source": [
    "## Section 3 - Common List Related Functions\n",
    "\n",
    "### _3.1 `len()`_\n",
    "\n",
    "Similar to strings, we can also use `len()` to get the length of a list, or the total number of elements in a list.\n",
    "\n",
    "#### ~ Example ~"
   ]
  },
  {
   "cell_type": "code",
   "execution_count": 7,
   "metadata": {
    "scrolled": true
   },
   "outputs": [
    {
     "name": "stdout",
     "output_type": "stream",
     "text": [
      "6\n"
     ]
    }
   ],
   "source": [
    "lst_c = [1, 2, 3, 'x', 'y', 'z']\n",
    "print(len(lst_c))"
   ]
  },
  {
   "cell_type": "markdown",
   "metadata": {},
   "source": [
    "### _3.2 `append()` function_\n",
    "\n",
    "We can add in new elements into a list by using the `append()` function.\n",
    "\n",
    "#### ~ Example ~"
   ]
  },
  {
   "cell_type": "code",
   "execution_count": 8,
   "metadata": {
    "scrolled": true
   },
   "outputs": [
    {
     "name": "stdout",
     "output_type": "stream",
     "text": [
      "['apple', 'orange', 'banana', 'pineapple']\n"
     ]
    }
   ],
   "source": [
    "fruits = [\"apple\", \"orange\", \"banana\"]\n",
    "fruits.append(\"pineapple\")\n",
    "\n",
    "print(fruits)"
   ]
  },
  {
   "cell_type": "markdown",
   "metadata": {},
   "source": [
    "### _3.3 `extend()` function_\n",
    "\n",
    "We can add all elements of another list into the current list by using the `extend()` function.\n",
    "\n",
    "#### ~ Example ~"
   ]
  },
  {
   "cell_type": "code",
   "execution_count": 9,
   "metadata": {},
   "outputs": [
    {
     "name": "stdout",
     "output_type": "stream",
     "text": [
      "['apple', 'orange', 'banana', 'pineapple', 'kiwi']\n"
     ]
    }
   ],
   "source": [
    "fruits = [\"apple\", \"orange\", \"banana\"]\n",
    "fruits.extend([\"pineapple\", \"kiwi\"])\n",
    "\n",
    "print(fruits)"
   ]
  },
  {
   "cell_type": "code",
   "execution_count": 10,
   "metadata": {},
   "outputs": [
    {
     "name": "stdout",
     "output_type": "stream",
     "text": [
      "['apple', 'orange', 'banana', ['pineapple', 'kiwi']]\n"
     ]
    }
   ],
   "source": [
    "# Difference between append() and extend()\n",
    "fruits = [\"apple\", \"orange\", \"banana\"]\n",
    "fruits.append([\"pineapple\", \"kiwi\"])\n",
    "\n",
    "print(fruits)"
   ]
  },
  {
   "cell_type": "code",
   "execution_count": 11,
   "metadata": {},
   "outputs": [
    {
     "name": "stdout",
     "output_type": "stream",
     "text": [
      "['apple', 'orange', 'banana', 'p', 'i', 'n', 'e', 'a', 'p', 'p', 'l', 'e']\n"
     ]
    }
   ],
   "source": [
    "# Difference between append() and extend()\n",
    "fruits = [\"apple\", \"orange\", \"banana\"]\n",
    "fruits.extend(\"pineapple\")\n",
    "\n",
    "print(fruits)"
   ]
  },
  {
   "cell_type": "markdown",
   "metadata": {},
   "source": [
    "### _3.4 `remove()` function_\n",
    "\n",
    "We can remove the **first occurance** of a value from a list by using the `remove()` function.\n",
    "\n",
    "#### ~ Example ~"
   ]
  },
  {
   "cell_type": "code",
   "execution_count": 12,
   "metadata": {
    "scrolled": true
   },
   "outputs": [
    {
     "name": "stdout",
     "output_type": "stream",
     "text": [
      "['apple', 'orange', 'banana']\n"
     ]
    }
   ],
   "source": [
    "fruits = [\"apple\", \"orange\", \"banana\", \"banana\"]\n",
    "fruits.remove(\"banana\")\n",
    "\n",
    "print(fruits)\n",
    "\n",
    "# Uncomment the following line to see what happens if we try to remove an element not found in the list\n",
    "# fruits.remove(\"cheese\")"
   ]
  },
  {
   "cell_type": "markdown",
   "metadata": {},
   "source": [
    "### _3.5 `pop()` function_\n",
    "\n",
    "We can remove an element based on its **index** by using the `pop()` function.\n",
    "If no value is given, `pop()` will remove the last element in the list.\n",
    "\n",
    "#### ~ Example ~"
   ]
  },
  {
   "cell_type": "code",
   "execution_count": 13,
   "metadata": {},
   "outputs": [
    {
     "name": "stdout",
     "output_type": "stream",
     "text": [
      "['orange', 'banana', 'kiwi']\n",
      "['orange', 'banana']\n"
     ]
    }
   ],
   "source": [
    "fruits = [\"apple\", \"orange\", \"banana\", \"kiwi\"]\n",
    "\n",
    "fruits.pop(0)\n",
    "print(fruits)\n",
    "\n",
    "fruits.pop()\n",
    "print(fruits)\n",
    "\n",
    "# Uncomment the following line to see what happens if we pop at an index exceeding length of list\n",
    "# fruits.pop(2)"
   ]
  },
  {
   "cell_type": "markdown",
   "metadata": {},
   "source": [
    "### _3.6 `insert()` function_\n",
    "\n",
    "We can insert an element into a list at a particular `index` by using the `insert()` function. All current elements at and after the `index` will be pushed backwards.\n",
    "\n",
    "#### ~ Example ~"
   ]
  },
  {
   "cell_type": "code",
   "execution_count": 14,
   "metadata": {},
   "outputs": [
    {
     "name": "stdout",
     "output_type": "stream",
     "text": [
      "['apple', 'orange', 'watermelon', 'banana', 'kiwi']\n"
     ]
    }
   ],
   "source": [
    "fruits = [\"apple\", \"orange\", \"banana\", \"kiwi\"]\n",
    "fruits.insert(2, \"watermelon\")\n",
    "\n",
    "print(fruits)\n",
    "\n",
    "# What happens if the index > length of list?\n",
    "# fruits.insert(10, \"cheese\")\n",
    "# print(fruits)"
   ]
  },
  {
   "cell_type": "markdown",
   "metadata": {},
   "source": [
    "### _3.7 `index()` function_\n",
    "\n",
    "We can find the `index` of the **first occurance** of an element by using the `index()` function. An `ValueError` will be returned in the element cannot be found in the list.\n",
    "\n",
    "#### ~ Example ~"
   ]
  },
  {
   "cell_type": "code",
   "execution_count": 15,
   "metadata": {},
   "outputs": [
    {
     "name": "stdout",
     "output_type": "stream",
     "text": [
      "1\n"
     ]
    },
    {
     "ename": "ValueError",
     "evalue": "'watermelon' is not in list",
     "output_type": "error",
     "traceback": [
      "\u001b[0;31m---------------------------------------------------------------------------\u001b[0m",
      "\u001b[0;31mValueError\u001b[0m                                Traceback (most recent call last)",
      "Cell \u001b[0;32mIn[15], line 6\u001b[0m\n\u001b[1;32m      3\u001b[0m \u001b[38;5;28mprint\u001b[39m(fruits\u001b[38;5;241m.\u001b[39mindex(\u001b[38;5;124m\"\u001b[39m\u001b[38;5;124morange\u001b[39m\u001b[38;5;124m\"\u001b[39m))\n\u001b[1;32m      5\u001b[0m \u001b[38;5;66;03m# What happens if no such element is found in the list?\u001b[39;00m\n\u001b[0;32m----> 6\u001b[0m \u001b[38;5;28mprint\u001b[39m(\u001b[43mfruits\u001b[49m\u001b[38;5;241;43m.\u001b[39;49m\u001b[43mindex\u001b[49m\u001b[43m(\u001b[49m\u001b[38;5;124;43m\"\u001b[39;49m\u001b[38;5;124;43mwatermelon\u001b[39;49m\u001b[38;5;124;43m\"\u001b[39;49m\u001b[43m)\u001b[49m)\n",
      "\u001b[0;31mValueError\u001b[0m: 'watermelon' is not in list"
     ]
    }
   ],
   "source": [
    "fruits = [\"apple\", \"orange\", \"banana\", \"kiwi\"]\n",
    "\n",
    "print(fruits.index(\"orange\"))\n",
    "\n",
    "# What happens if no such element is found in the list?\n",
    "print(fruits.index(\"watermelon\"))"
   ]
  },
  {
   "cell_type": "markdown",
   "metadata": {},
   "source": [
    "## Section 4 - Loops and Function Calls using List\n",
    "\n",
    "### _4.1 Traversing through a list_\n",
    "\n",
    "We can traverse through a list using `for` and `while` loops just like strings.\n",
    "\n",
    "#### ~ Example ~"
   ]
  },
  {
   "cell_type": "code",
   "execution_count": null,
   "metadata": {},
   "outputs": [],
   "source": [
    "fruits = [\"apple\", \"orange\", \"banana\", \"kiwi\"]\n",
    "\n",
    "# while loop\n",
    "index = 0\n",
    "while index < len(fruits):\n",
    "    print(fruits[index])\n",
    "    index += 1"
   ]
  },
  {
   "cell_type": "code",
   "execution_count": null,
   "metadata": {},
   "outputs": [],
   "source": [
    "fruits = [\"apple\", \"orange\", \"banana\", \"kiwi\"]\n",
    "\n",
    "# for loop using index\n",
    "for i in range(len(fruits)):\n",
    "    print(fruits[i])\n"
   ]
  },
  {
   "cell_type": "code",
   "execution_count": null,
   "metadata": {
    "scrolled": true
   },
   "outputs": [],
   "source": [
    "fruits = [\"apple\", \"orange\", \"banana\", \"kiwi\"]\n",
    "\n",
    "# for loop using items in a collection\n",
    "for fruit in fruits:\n",
    "    print(fruit)"
   ]
  },
  {
   "cell_type": "markdown",
   "metadata": {},
   "source": [
    "### _4.2 Passing a list object into a function_\n",
    "\n",
    "When a list object being passed into a function, it is only passing a **reference** to the list. Hence, when the list is modified inside the function locally, it will reflect on the outter scope too.\n",
    "\n",
    "#### ~ Example ~"
   ]
  },
  {
   "cell_type": "code",
   "execution_count": null,
   "metadata": {},
   "outputs": [],
   "source": [
    "fruits = [\"apple\", \"orange\", \"banana\", \"kiwi\"]\n",
    "\n",
    "def update_list(lst):\n",
    "    lst[0] = \"watermelon\"\n",
    "    lst.append(\"strawberry\")\n",
    "\n",
    "update_list(fruits) \n",
    "print(fruits)"
   ]
  },
  {
   "cell_type": "markdown",
   "metadata": {},
   "source": [
    "## Section 5 - Other List Related Operations\n",
    "\n",
    "### _5.1 String `.split()` Function_\n",
    "\n",
    "Sometimes, we can split a long string into a list of shorted strings by using the `.split()` function.\n",
    "\n",
    "#### ~ Example ~"
   ]
  },
  {
   "cell_type": "code",
   "execution_count": null,
   "metadata": {},
   "outputs": [],
   "source": [
    "long_string = \"Xiao Ming, 60, Maths, Physics, Chemistry, Computing\"\n",
    "\n",
    "splited_str_lst = long_string.split(\",\")\n",
    "\n",
    "print(splited_str_lst)"
   ]
  },
  {
   "cell_type": "markdown",
   "metadata": {},
   "source": [
    "### _5.2 List inside another List_\n",
    "\n",
    "Since elements in a list can be any data type, it is possible to have lists inside a list object.\n",
    "\n",
    "#### ~ Example ~"
   ]
  },
  {
   "cell_type": "code",
   "execution_count": null,
   "metadata": {},
   "outputs": [],
   "source": [
    "lst = [[1, 2, 3], [4, 5, [6, 7, 8]], [\"a\", \"b\", \"c\", \"d\"]]\n",
    "\n",
    "for element in lst:\n",
    "    print(element)"
   ]
  },
  {
   "cell_type": "markdown",
   "metadata": {},
   "source": [
    "### _5.3 Nested Loops with Lists_\n",
    "\n",
    "We can iterate through the lists using nested loops.\n",
    "\n",
    "#### ~ Example ~\n"
   ]
  },
  {
   "cell_type": "code",
   "execution_count": null,
   "metadata": {},
   "outputs": [],
   "source": [
    "lst = [[1, 2, 3], [4, 5, [6, 7, 8]], [\"a\", \"b\", \"c\", \"d\"]]\n",
    "\n",
    "for i in range(len(lst)):\n",
    "    for j in range(len(lst[i])):\n",
    "        print(i, j, lst[i][j])"
   ]
  }
 ],
 "metadata": {
  "kernelspec": {
   "display_name": "venv",
   "language": "python",
   "name": "python3"
  },
  "language_info": {
   "codemirror_mode": {
    "name": "ipython",
    "version": 3
   },
   "file_extension": ".py",
   "mimetype": "text/x-python",
   "name": "python",
   "nbconvert_exporter": "python",
   "pygments_lexer": "ipython3",
   "version": "3.13.1"
  }
 },
 "nbformat": 4,
 "nbformat_minor": 2
}
