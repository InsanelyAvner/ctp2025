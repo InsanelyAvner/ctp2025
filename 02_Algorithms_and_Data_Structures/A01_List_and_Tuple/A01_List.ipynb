{
 "cells": [
  {
   "cell_type": "code",
   "execution_count": null,
   "metadata": {},
   "outputs": [],
   "source": [
    "def format_list(string_list):\n",
    "  return [s.lower() for s in string_list]"
   ]
  },
  {
   "cell_type": "code",
   "execution_count": null,
   "metadata": {},
   "outputs": [],
   "source": [
    "def format_list(string_list):\n",
    "  if not string_list:\n",
    "    return []\n",
    "  else:\n",
    "    return [string_list[0].lower()] + format_list(string_list[1:])"
   ]
  },
  {
   "cell_type": "code",
   "execution_count": null,
   "metadata": {},
   "outputs": [],
   "source": [
    "class_test = [['John', 51], ['Mary', 49], ['Tim', 80], ['Sam', 70]]\n",
    "\n",
    "def get_pass_list(class_test):\n",
    "  return [student[0] for student in class_test if student[1] >= 50]"
   ]
  },
  {
   "cell_type": "code",
   "execution_count": null,
   "metadata": {},
   "outputs": [],
   "source": [
    "def col_sum(m):\n",
    "    return [sum(col) for col in zip(*m)]"
   ]
  },
  {
   "cell_type": "code",
   "execution_count": null,
   "metadata": {},
   "outputs": [],
   "source": [
    "def row_sum(m):\n",
    "  return [sum(row) for row in m]"
   ]
  },
  {
   "cell_type": "code",
   "execution_count": null,
   "metadata": {},
   "outputs": [],
   "source": [
    "def transpose(m):\n",
    "    return [list(col) for col in zip(*m)]"
   ]
  }
 ],
 "metadata": {
  "language_info": {
   "name": "python"
  }
 },
 "nbformat": 4,
 "nbformat_minor": 2
}
