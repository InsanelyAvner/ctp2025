{
 "cells": [
  {
   "cell_type": "markdown",
   "metadata": {},
   "source": [
    "# P04 - Conditional Statement\n",
    "\n",
    "## Syllabus\n",
    "2.2.3\tApply the fundamental programming constructs to control the flow of program execution:  \n",
    "- Sequence\n",
    "- Selection\n",
    "- Iteration\n",
    "\n",
    "## Understanding Goals\n",
    "\n",
    "At the end of this chapter, you should be able to:\n",
    "- Use relational and logical operators correctly\n",
    "- Understand basics of truth table\n",
    "- Understand and apply conditional statements to solve problems"
   ]
  },
  {
   "cell_type": "markdown",
   "metadata": {},
   "source": [
    "## Section 1 - Operators Recap\n",
    "\n",
    "### _1.1 Relational Operators_\n",
    "\n",
    "Relational operators are used to compare two values. The result will be a `boolean` value, either `True` or `False`.\n",
    "\n",
    "In the following examples, `x` takes value of `5`.\n",
    "\n",
    "<table class=\"table table-bordered\">\n",
    "    <!-- Header Row -->\n",
    "    <tr>\n",
    "        <th style=\"width:20%; text-align:left\">Operator</th>\n",
    "        <th style=\"width:20%; text-align:left\">Operation</th>\n",
    "        <th style=\"width:20%; text-align:left\">Example</th>\n",
    "        <th style=\"text-align:left\">Result</th>\n",
    "    </tr>\n",
    "    <!-- == -->\n",
    "    <tr>\n",
    "        <td style=\"width:20%; text-align:left\">==</td>\n",
    "        <td style=\"width:20%; text-align:left\">Equal to</td>\n",
    "        <td style=\"width:20%; text-align:left\">x == 4</td>\n",
    "        <td style=\"text-align:left\">False</td>\n",
    "    </tr>\n",
    "    <!-- != -->\n",
    "    <tr>\n",
    "        <td style=\"width:20%; text-align:left\">!=</td>\n",
    "        <td style=\"width:20%; text-align:left\">Not equal to</td>\n",
    "        <td style=\"width:20%; text-align:left\">x != 4</td>\n",
    "        <td style=\"text-align:left\">True</td>\n",
    "    </tr>\n",
    "    <!-- > -->\n",
    "    <tr>\n",
    "        <td style=\"width:20%; text-align:left\">></td>\n",
    "        <td style=\"width:20%; text-align:left\">Greater than</td>\n",
    "        <td style=\"width:20%; text-align:left\">x > 4</td>\n",
    "        <td style=\"text-align:left\">True</td>\n",
    "    </tr>\n",
    "    <!-- < -->\n",
    "    <tr>\n",
    "        <td style=\"width:20%; text-align:left\"><</td>\n",
    "        <td style=\"width:20%; text-align:left\">Less than</td>\n",
    "        <td style=\"width:20%; text-align:left\">x < 4</td>\n",
    "        <td style=\"text-align:left\">False</td>\n",
    "    </tr>\n",
    "    <!-- >= -->\n",
    "    <tr>\n",
    "        <td style=\"width:20%; text-align:left\">>=</td>\n",
    "        <td style=\"width:20%; text-align:left\">\tGreater than or equal to</td>\n",
    "        <td style=\"width:20%; text-align:left\">x >= 4</td>\n",
    "        <td style=\"text-align:left\">True</td>\n",
    "    </tr>\n",
    "    <!-- <= -->\n",
    "    <tr>\n",
    "        <td style=\"width:20%; text-align:left\"><=</td>\n",
    "        <td style=\"width:20%; text-align:left\">Less than or equal to</td>\n",
    "        <td style=\"width:20%; text-align:left\">x <= 4</td>\n",
    "        <td style=\"text-align:left\">False</td>\n",
    "    </tr>\n",
    "</table>"
   ]
  },
  {
   "cell_type": "markdown",
   "metadata": {},
   "source": [
    "### _1.2 Logical Operators_\n",
    "\n",
    "Logical operators are used to combine conditional statements. We will explore and learn a bit more about truth table in a later chapter.\n",
    "\n",
    "In the following examples, `x` takes value of `5`.\n",
    "\n",
    "<table class=\"table table-bordered\" style=\"width:80%\">\n",
    "    <!-- Header Row -->\n",
    "    <tr>\n",
    "        <th style=\"width:20%; text-align:left\">Operator</th>\n",
    "        <th style=\"width:20%; text-align:left\">Description</th>\n",
    "        <th style=\"width:20%; text-align:left\">Example</th>\n",
    "        <th style=\"text-align:left\">Result</th>\n",
    "    </tr>\n",
    "    <!-- and -->\n",
    "    <tr>\n",
    "        <td style=\"width:20%; text-align:left\">and</td>\n",
    "        <td style=\"width:20%; text-align:left\">Returns True only if both statements are true.</td>\n",
    "        <td style=\"width:20%; text-align:left\">x > 3 and x % 3 == 2</td>\n",
    "        <td style=\"text-align:left\">True</td>\n",
    "    </tr>\n",
    "    <!-- or -->\n",
    "    <tr>\n",
    "        <td style=\"width:20%; text-align:left\">or</td>\n",
    "        <td style=\"width:20%; text-align:left\">Returns True as long as either one of the statements is true.</td>\n",
    "        <td style=\"width:20%; text-align:left\">x > 3 or x // 4 == 2</td>\n",
    "        <td style=\"text-align:left\">True</td>\n",
    "    </tr>\n",
    "    <!-- not -->\n",
    "    <tr>\n",
    "        <td style=\"width:20%; text-align:left\">not</td>\n",
    "        <td style=\"width:20%; text-align:left\">Reverse the conditional value.</td>\n",
    "        <td style=\"width:20%; text-align:left\">not(x > 3)</td>\n",
    "        <td style=\"text-align:left\">False</td>\n",
    "    </tr>\n",
    "</table>"
   ]
  },
  {
   "cell_type": "markdown",
   "metadata": {},
   "source": [
    "### _1.3 Chained Comparison Operators_\n",
    "\n",
    "In Python, we can use either logical operators to combine multiple comparison results, or chained comparison operators for `and` statement.\n",
    "\n",
    "#### ~ Example ~"
   ]
  },
  {
   "cell_type": "code",
   "execution_count": null,
   "metadata": {},
   "outputs": [],
   "source": [
    "x = 5\n",
    "print(x > 3 and x < 10)\n",
    "print(3 < x < 10)  # this is equivilant to the above 'and' statement"
   ]
  },
  {
   "cell_type": "markdown",
   "metadata": {},
   "source": [
    "## Section 2  - Truth Table\n",
    "\n",
    "A truth table is a mathematical table used in logic, it has one column for each input variable and one final column showing all of the possible results of the logical operation that the table represents.\n",
    "\n",
    "**AND operator**\n",
    "\n",
    "<table class=\"table table-bordered\">\n",
    "    <!-- Header Row -->\n",
    "    <tr>\n",
    "        <th style=\"width:10%; text-align:left\">x</th>\n",
    "        <th style=\"width:10%; text-align:left\">y</th>\n",
    "        <th style=\"width:20%; text-align:left\">x AND y</th>\n",
    "    </tr>\n",
    "    <tr>\n",
    "        <td style=\"width:10%; text-align:left\">True</td>\n",
    "        <td style=\"width:10%; text-align:left\">True</td>\n",
    "        <td style=\"text-align:left\">True</td>\n",
    "    </tr>\n",
    "    <tr>\n",
    "        <td style=\"width:10%; text-align:left\">True</td>\n",
    "        <td style=\"width:10%; text-align:left\">False</td>\n",
    "        <td style=\"text-align:left\">False</td>\n",
    "    </tr>\n",
    "    <tr>\n",
    "        <td style=\"width:10%; text-align:left\">False</td>\n",
    "        <td style=\"width:10%; text-align:left\">True</td>\n",
    "        <td style=\"text-align:left\">False</td>\n",
    "    </tr>\n",
    "    <tr>\n",
    "        <td style=\"width:10%; text-align:left\">False</td>\n",
    "        <td style=\"width:10%; text-align:left\">False</td>\n",
    "        <td style=\"text-align:left\">False</td>\n",
    "    </tr>\n",
    "</table>\n",
    "\n",
    "**OR operator**\n",
    "\n",
    "<table class=\"table table-bordered\">\n",
    "    <!-- Header Row -->\n",
    "    <tr>\n",
    "        <th style=\"width:10%; text-align:left\">x</th>\n",
    "        <th style=\"width:10%; text-align:left\">y</th>\n",
    "        <th style=\"width:20%; text-align:left\">x OR y</th>\n",
    "    </tr>\n",
    "    <tr>\n",
    "        <td style=\"width:10%; text-align:left\">True</td>\n",
    "        <td style=\"width:10%; text-align:left\">True</td>\n",
    "        <td style=\"text-align:left\">True</td>\n",
    "    </tr>\n",
    "    <tr>\n",
    "        <td style=\"width:10%; text-align:left\">True</td>\n",
    "        <td style=\"width:10%; text-align:left\">False</td>\n",
    "        <td style=\"text-align:left\">True</td>\n",
    "    </tr>\n",
    "    <tr>\n",
    "        <td style=\"width:10%; text-align:left\">False</td>\n",
    "        <td style=\"width:10%; text-align:left\">True</td>\n",
    "        <td style=\"text-align:left\">True</td>\n",
    "    </tr>\n",
    "    <tr>\n",
    "        <td style=\"width:10%; text-align:left\">False</td>\n",
    "        <td style=\"width:10%; text-align:left\">False</td>\n",
    "        <td style=\"text-align:left\">False</td>\n",
    "    </tr>\n",
    "</table>"
   ]
  },
  {
   "cell_type": "markdown",
   "metadata": {},
   "source": [
    "## Section 3 - Python Conditional Statements\n",
    "\n",
    "### _3.1 `if`, `else` and `elif` statements_\n",
    "\n",
    "In our daily lives, we make many decisions, such as \"Should I buy an iPhone or an Android phone?\", \"Should I eat lunch during recess or lunch break?\" or \"Do I go hang out with classmates after school or go home directly?\".\n",
    "\n",
    "We make certain decision based on related conditions, such as \"I am used to iOS system\", \"I am not hungry yet, maybe I shall wait until lunch break\", or \"I have a lot of homework due tomorrow\".\n",
    "\n",
    "In programming, we can also implement our program in a way such that it will make decision accordingly.\n",
    "\n",
    "The syntax of if-elif statements is as follow:\n",
    "\n",
    "``` python\n",
    "if expression_1:\n",
    "    action_1\n",
    "elif expression_2:\n",
    "    action_2\n",
    "elif expression_3:\n",
    "    action_3\n",
    "else:\n",
    "    default_action\n",
    "```\n",
    "\n",
    "#### ~ Example ~"
   ]
  },
  {
   "cell_type": "code",
   "execution_count": null,
   "metadata": {},
   "outputs": [],
   "source": [
    "x = 12\n",
    "\n",
    "# if statement can be used alone\n",
    "if type(x) == int:\n",
    "    print(\"x is an integer.\")"
   ]
  },
  {
   "cell_type": "code",
   "execution_count": null,
   "metadata": {},
   "outputs": [],
   "source": [
    "x = 12\n",
    "\n",
    "# if/else statements for two potential conditions\n",
    "if x > 0:\n",
    "    print(\"x is a positive number.\")\n",
    "else:\n",
    "    print(\"x is a negative number.\")"
   ]
  },
  {
   "cell_type": "code",
   "execution_count": null,
   "metadata": {},
   "outputs": [],
   "source": [
    "x = 12\n",
    "\n",
    "# if/elif/else statements for multiple conditions\n",
    "if x % 2 != 0:\n",
    "    print(\"x is an odd number.\")\n",
    "elif x % 3 != 0:\n",
    "    print(\"x is not a multiple of 3.\")\n",
    "else:\n",
    "    print(\"x is a multiple of 6.\")"
   ]
  },
  {
   "cell_type": "markdown",
   "metadata": {},
   "source": [
    "### _3.2 Order of Execution_\n",
    "\n",
    "In Python conditional statements, when one condition is evaluated to be True, the rest of the conditional statement blocks will not be executed.\n",
    "\n",
    "#### ~ Example ~"
   ]
  },
  {
   "cell_type": "code",
   "execution_count": null,
   "metadata": {},
   "outputs": [],
   "source": [
    "x = 12\n",
    "\n",
    "# When one statement is satisfied, the rest of the conditional statements won't be executed.\n",
    "if x > 0:\n",
    "    print(\"x is postive.\")\n",
    "elif x % 2 == 0:\n",
    "    print(\"x is an even number.\")\n",
    "elif x % 3 == 0:\n",
    "    print(\"x is a multiple of 3.\")\n",
    "else:\n",
    "    print(x / 0) # even if there is a potential error"
   ]
  },
  {
   "cell_type": "code",
   "execution_count": null,
   "metadata": {},
   "outputs": [],
   "source": [
    "x = 12\n",
    "\n",
    "# Similarly if we have a series of conditional statements connected by the \"OR\" keyword,\n",
    "# once one of the condition is evaluated to be True, the rest of the statements will not be executed.\n",
    "if x > 0 or x / 0 == 0:\n",
    "    print(\"x is positive.\")"
   ]
  },
  {
   "cell_type": "markdown",
   "metadata": {},
   "source": [
    "### _3.3 Nested Conditional Statement Blocks_\n",
    "\n",
    "Sometimes we might need a nested structure of conditional statement blocks.\n",
    "\n",
    "#### ~ Example ~"
   ]
  },
  {
   "cell_type": "code",
   "execution_count": null,
   "metadata": {},
   "outputs": [],
   "source": [
    "x = 12\n",
    "\n",
    "# nested conditional statement blocks\n",
    "if x > 0:\n",
    "    if x % 2 == 0:\n",
    "        print(\"x is a positive even number.\")\n",
    "    else:\n",
    "        print(\"x is a positive odd number.\")\n",
    "else:\n",
    "    if x % 2 == 0:\n",
    "        print(\"x is a negative even number.\")\n",
    "    else:\n",
    "        print(\"x is a negative odd number.\")"
   ]
  },
  {
   "cell_type": "markdown",
   "metadata": {},
   "source": [
    "#### - Exercise -\n",
    "\n",
    "Any year which is divisible by 100 but not by 400 is **not** a leap year:\n",
    "For example, 1900, 2100, 2200 are not leap years.\n",
    "\n",
    "Any year which is divisible by 400 is a leap year:\n",
    "For example 2000, 2400 and 2800 are leap years.\n",
    "\n",
    "Any other year that is divisible by 4 is a leap year: \n",
    "For example, 1988, 1992 and 1996 are leap years.\n",
    "\n",
    "Implement using conditional statements to check if the variable `year` is a leap year. You can uncomment to change the value of `year` to different values."
   ]
  },
  {
   "cell_type": "code",
   "execution_count": null,
   "metadata": {},
   "outputs": [],
   "source": [
    "year = 2018\n",
    "\n",
    "# your code for Exercise\n",
    "if year % 4 == 0:\n",
    "    if year % 100 == 0:\n",
    "        if year % 400 == 0:\n",
    "            print(\"This is a leap year.\")\n",
    "        else:\n",
    "            print(\"This is not a leap year.\")\n",
    "    else:\n",
    "        print(\"This is a leap year.\")\n",
    "else:\n",
    "    print(\"not leap year\")\n"
   ]
  },
  {
   "cell_type": "markdown",
   "metadata": {},
   "source": [
    "## Section 4 - Type Conversion for Boolean Values\n",
    "\n",
    "All values in Python can be evaluated as Boolean values, e.g. either `True` or `False`.\n",
    "\n",
    "#### ~ Example ~"
   ]
  },
  {
   "cell_type": "code",
   "execution_count": null,
   "metadata": {},
   "outputs": [],
   "source": [
    "# Numbers\n",
    "print(bool(0))\n",
    "print(bool(1))\n",
    "print(bool(-1))\n",
    "print(bool(1000.4))\n",
    "\n",
    "# Conclusion: "
   ]
  },
  {
   "cell_type": "code",
   "execution_count": null,
   "metadata": {},
   "outputs": [],
   "source": [
    "# Strings\n",
    "print(bool(\"\"))\n",
    "print(bool(\"haha\"))\n",
    "\n",
    "# Conclusion: "
   ]
  },
  {
   "cell_type": "code",
   "execution_count": null,
   "metadata": {},
   "outputs": [],
   "source": [
    "# None value\n",
    "print(bool(None))"
   ]
  }
 ],
 "metadata": {
  "kernelspec": {
   "display_name": "Python 3",
   "language": "python",
   "name": "python3"
  },
  "language_info": {
   "codemirror_mode": {
    "name": "ipython",
    "version": 3
   },
   "file_extension": ".py",
   "mimetype": "text/x-python",
   "name": "python",
   "nbconvert_exporter": "python",
   "pygments_lexer": "ipython3",
   "version": "3.12.6"
  }
 },
 "nbformat": 4,
 "nbformat_minor": 2
}
