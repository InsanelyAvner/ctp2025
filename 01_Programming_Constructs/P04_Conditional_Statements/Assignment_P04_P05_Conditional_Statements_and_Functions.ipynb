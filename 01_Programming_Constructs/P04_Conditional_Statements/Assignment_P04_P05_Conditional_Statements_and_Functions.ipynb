{
 "cells": [
  {
   "cell_type": "markdown",
   "metadata": {},
   "source": [
    "# Assignment - [P04_P05] Conditional Statements & Functions"
   ]
  },
  {
   "cell_type": "markdown",
   "metadata": {},
   "source": [
    "### Question 1\n",
    "\n",
    "#### Explanation\n",
    "\n",
    "Trace the following code and guess how the output will look like. Test your conjecture by running the code. Explain.\n",
    "\n",
    "**Code Sample A**\n",
    "```python\n",
    "if True or true:\n",
    "    print('true!')\n",
    "```\n",
    "\n",
    "**Code Sample B**\n",
    "\n",
    "```python\n",
    "if true or True:\n",
    "    print('true!')\n",
    "```"
   ]
  },
  {
   "cell_type": "code",
   "execution_count": 3,
   "metadata": {},
   "outputs": [
    {
     "name": "stdout",
     "output_type": "stream",
     "text": [
      "true!\n"
     ]
    },
    {
     "ename": "NameError",
     "evalue": "name 'true' is not defined",
     "output_type": "error",
     "traceback": [
      "\u001b[1;31m---------------------------------------------------------------------------\u001b[0m",
      "\u001b[1;31mNameError\u001b[0m                                 Traceback (most recent call last)",
      "Cell \u001b[1;32mIn[3], line 4\u001b[0m\n\u001b[0;32m      1\u001b[0m \u001b[38;5;28;01mif\u001b[39;00m \u001b[38;5;28;01mTrue\u001b[39;00m \u001b[38;5;129;01mor\u001b[39;00m true:\n\u001b[0;32m      2\u001b[0m     \u001b[38;5;28mprint\u001b[39m(\u001b[38;5;124m'\u001b[39m\u001b[38;5;124mtrue!\u001b[39m\u001b[38;5;124m'\u001b[39m)\n\u001b[1;32m----> 4\u001b[0m \u001b[38;5;28;01mif\u001b[39;00m \u001b[43mtrue\u001b[49m \u001b[38;5;129;01mor\u001b[39;00m \u001b[38;5;28;01mTrue\u001b[39;00m:\n\u001b[0;32m      5\u001b[0m     \u001b[38;5;28mprint\u001b[39m(\u001b[38;5;124m'\u001b[39m\u001b[38;5;124mtrue too\u001b[39m\u001b[38;5;124m'\u001b[39m)\n",
      "\u001b[1;31mNameError\u001b[0m: name 'true' is not defined"
     ]
    }
   ],
   "source": [
    "if True or true:\n",
    "    print('true!')\n",
    "\n",
    "if true or True:\n",
    "    print('true too')"
   ]
  },
  {
   "cell_type": "markdown",
   "metadata": {},
   "source": [
    "### Explanation\n",
    "\n",
    "Trace the following code and guess how the output will look like. Test your conjecture by running the code. Explain.\n",
    "\n",
    "\n",
    "**Code Sample A**\n",
    "\n",
    "```python\n",
    "if True:\n",
    "    1\n",
    "else:\n",
    "    bad-stuff\n",
    "```\n",
    "\n",
    "**Code Sample B**\n",
    "```python\n",
    "def if_else(condition, do1, do2):\n",
    "    if condition:\n",
    "        return do1\n",
    "    else:\n",
    "        return do2\n",
    "if_else(True, 1, bad-stuff)\n",
    "```"
   ]
  },
  {
   "cell_type": "markdown",
   "metadata": {},
   "source": [
    "**Answer:**\n",
    "Code A will run silently without errors because the if True condition is satisfied and 1 is valid.\n",
    "Code B will not run because python does not recognize bad-stuff from the arguments"
   ]
  },
  {
   "cell_type": "markdown",
   "metadata": {},
   "source": [
    "### Question 3\n",
    "\n",
    "#### Code Tracing\n",
    "\n",
    "This is a code-tracing question. For each of the questions below, what is printed when the expressions are evaluated?\n",
    "\n",
    "**(a)**\n",
    "```python\n",
    "x = 3\n",
    "y = 5\n",
    "def f(x,y):\n",
    "    x = 4\n",
    "    return x + y\n",
    "print(f(y,x))\n",
    "```\n",
    "\n",
    "**(b)**\n",
    "```python\n",
    "x = 5\n",
    "y = 10\n",
    "z = 15\n",
    "def f(x):\n",
    "    def g(y):\n",
    "        def h(z):\n",
    "            return x + y + z\n",
    "        return h(y)\n",
    "    return g(x)\n",
    "print(f(6))\n",
    "```"
   ]
  },
  {
   "cell_type": "code",
   "execution_count": 4,
   "metadata": {},
   "outputs": [
    {
     "name": "stdout",
     "output_type": "stream",
     "text": [
      "7\n"
     ]
    }
   ],
   "source": [
    "x = 3\n",
    "y = 5\n",
    "def f(x,y):\n",
    "    x = 4\n",
    "    return x + y\n",
    "print(f(y,x))\n"
   ]
  },
  {
   "cell_type": "code",
   "execution_count": 5,
   "metadata": {},
   "outputs": [
    {
     "name": "stdout",
     "output_type": "stream",
     "text": [
      "18\n"
     ]
    }
   ],
   "source": [
    "x = 5\n",
    "y = 10\n",
    "z = 15\n",
    "def f(x):\n",
    "    def g(y):\n",
    "        def h(z):\n",
    "            return x + y + z\n",
    "        return h(y)\n",
    "    return g(x)\n",
    "print(f(6))"
   ]
  },
  {
   "cell_type": "markdown",
   "metadata": {},
   "source": [
    "### Question 4\n",
    "\n",
    "#### Distance between 2 points\n",
    "\n",
    "Define a function distance that takes in the `coordinates` of two points on a plane: (x1, y1) and (x2, y2)  as arguments and returns the distance between them."
   ]
  },
  {
   "cell_type": "code",
   "execution_count": 7,
   "metadata": {},
   "outputs": [
    {
     "name": "stdout",
     "output_type": "stream",
     "text": [
      "5.0\n"
     ]
    }
   ],
   "source": [
    "import math\n",
    "\n",
    "def distance(x1, y1, x2, y2):\n",
    "    return math.sqrt((x2 - x1)**2 + (y2 - y1)**2)\n",
    "\n",
    "print(distance(2, 2, 5, 6))"
   ]
  }
 ],
 "metadata": {
  "kernelspec": {
   "display_name": "Python 3",
   "language": "python",
   "name": "python3"
  },
  "language_info": {
   "codemirror_mode": {
    "name": "ipython",
    "version": 3
   },
   "file_extension": ".py",
   "mimetype": "text/x-python",
   "name": "python",
   "nbconvert_exporter": "python",
   "pygments_lexer": "ipython3",
   "version": "3.12.6"
  }
 },
 "nbformat": 4,
 "nbformat_minor": 2
}
