{
 "cells": [
  {
   "cell_type": "code",
   "execution_count": null,
   "metadata": {},
   "outputs": [],
   "source": [
    "def count_vowels_recursive(s):\n",
    "    if len(s) == 0:\n",
    "        return 0\n",
    "    \n",
    "    first_char = s[0].lower()\n",
    "    is_vowel = 1 if first_char in \"aeiou\" else 0\n",
    "    \n",
    "    return is_vowel + count_vowels_recursive(s[1:])"
   ]
  },
  {
   "cell_type": "code",
   "execution_count": null,
   "metadata": {},
   "outputs": [],
   "source": [
    "def is_safe(s):\n",
    "    if len(s) <= 1:\n",
    "        return True\n",
    "    \n",
    "    first = s[0]\n",
    "    second = s[1]\n",
    "    \n",
    "    if (first == 'M' and second == 'C') or (first == 'C' and second == 'M'):\n",
    "        return False\n",
    "    if (first == 'C' and second == 'D') or (first == 'D' and second == 'C'):\n",
    "        return False\n",
    "    if (first == 'D' and second == 'L') or (first == 'L' and second == 'D'):\n",
    "        return False\n",
    "    if (first == 'L' and second == 'E') or (first == 'E' and second == 'L'):\n",
    "        return False\n",
    "    if (first == 'E' and second == 'M') or (first == 'M' and second == 'E'):\n",
    "        return False\n",
    "    \n",
    "    return is_safe(s[1:])"
   ]
  },
  {
   "cell_type": "code",
   "execution_count": null,
   "metadata": {},
   "outputs": [],
   "source": [
    "def is_palindrome(s):\n",
    "    if len(s) <= 1:\n",
    "        return True\n",
    "    \n",
    "    if s[0] != s[-1]:\n",
    "        return False\n",
    "    \n",
    "    return is_palindrome(s[1:-1])"
   ]
  },
  {
   "cell_type": "code",
   "execution_count": null,
   "metadata": {},
   "outputs": [],
   "source": [
    "def change_cap(s):\n",
    "    if len(s) == 0:\n",
    "        return \"\"\n",
    "    \n",
    "    first_char = s[0]\n",
    "    if 'A' <= first_char <= 'Z':\n",
    "        new_char = chr(ord(first_char) + 32)\n",
    "    elif 'a' <= first_char <= 'z':\n",
    "        new_char = chr(ord(first_char) - 32)\n",
    "    else:\n",
    "        new_char = first_char\n",
    "    \n",
    "    return new_char + change_cap(s[1:])"
   ]
  },
  {
   "cell_type": "code",
   "execution_count": null,
   "metadata": {},
   "outputs": [],
   "source": [
    "def fib(n):\n",
    "    if n == 0:\n",
    "        return 0\n",
    "    elif n == 1:\n",
    "        return 1\n",
    "    else:\n",
    "        return fib(n-1) + fib(n-2)"
   ]
  }
 ],
 "metadata": {
  "language_info": {
   "name": "python"
  }
 },
 "nbformat": 4,
 "nbformat_minor": 2
}
