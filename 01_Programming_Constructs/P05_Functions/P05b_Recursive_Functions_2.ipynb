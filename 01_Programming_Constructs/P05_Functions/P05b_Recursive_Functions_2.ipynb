{
 "cells": [
  {
   "cell_type": "code",
   "execution_count": 1,
   "metadata": {},
   "outputs": [],
   "source": [
    "def sum_odd_n(n):\n",
    "    sum_odd = 0\n",
    "    \n",
    "    for i in range(n):\n",
    "        odd_number = 2*i + 1\n",
    "        sum_odd += odd_number\n",
    "        \n",
    "    return sum_odd"
   ]
  },
  {
   "cell_type": "code",
   "execution_count": null,
   "metadata": {},
   "outputs": [],
   "source": [
    "def sum_odd_n(n):\n",
    "    sum_odd = 0\n",
    "    i = 0\n",
    "    count = 0\n",
    "    \n",
    "    while count < n:\n",
    "        odd_number = 2*i + 1\n",
    "        sum_odd += odd_number\n",
    "        i += 1\n",
    "        count += 1\n",
    "    \n",
    "    return sum_odd"
   ]
  },
  {
   "cell_type": "code",
   "execution_count": null,
   "metadata": {},
   "outputs": [],
   "source": [
    "def sum_odd_n(n):\n",
    "    if n == 1:\n",
    "        return 1\n",
    "    else:\n",
    "        return (2*n - 1) + sum_odd_n(n-1)"
   ]
  },
  {
   "cell_type": "code",
   "execution_count": null,
   "metadata": {},
   "outputs": [],
   "source": [
    "def sum_n_squares(n):\n",
    "    result = 0\n",
    "    for counter in range(n+1):\n",
    "        result += counter * counter\n",
    "    \n",
    "    return result"
   ]
  },
  {
   "cell_type": "code",
   "execution_count": null,
   "metadata": {},
   "outputs": [],
   "source": [
    "def sum_n_squares(n):\n",
    "    result = 0\n",
    "    counter = 1\n",
    "    \n",
    "    while counter <= n:\n",
    "        result += counter * counter\n",
    "        counter += 1\n",
    "    \n",
    "    return result"
   ]
  },
  {
   "cell_type": "code",
   "execution_count": null,
   "metadata": {},
   "outputs": [],
   "source": [
    "def sum_n_squares(n):\n",
    "    if n == 1:\n",
    "        return 1\n",
    "    else:\n",
    "        return n * n + sum_n_squares(n - 1)"
   ]
  }
 ],
 "metadata": {
  "kernelspec": {
   "display_name": "venv",
   "language": "python",
   "name": "python3"
  },
  "language_info": {
   "codemirror_mode": {
    "name": "ipython",
    "version": 3
   },
   "file_extension": ".py",
   "mimetype": "text/x-python",
   "name": "python",
   "nbconvert_exporter": "python",
   "pygments_lexer": "ipython3",
   "version": "3.13.1"
  }
 },
 "nbformat": 4,
 "nbformat_minor": 2
}
