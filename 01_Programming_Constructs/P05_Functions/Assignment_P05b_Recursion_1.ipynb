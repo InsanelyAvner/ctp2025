{
 "cells": [
  {
   "cell_type": "code",
   "execution_count": null,
   "metadata": {},
   "outputs": [],
   "source": [
    "def sum_odd_factorials(n):\n",
    "    if n < 1:\n",
    "        return 0\n",
    "    \n",
    "    result = 0\n",
    "    \n",
    "    for i in range(1, n+1, 2):\n",
    "        fact = 1\n",
    "        for j in range(2, i+1):\n",
    "            fact *= j\n",
    "        result += fact\n",
    "        \n",
    "    return result"
   ]
  },
  {
   "cell_type": "code",
   "execution_count": null,
   "metadata": {},
   "outputs": [],
   "source": [
    "def collatz_distance(n):\n",
    "    if n == 1:\n",
    "        return 0\n",
    "    \n",
    "    if n % 2 == 0:\n",
    "        return 1 + collatz_distance(n // 2)\n",
    "    else:\n",
    "        return 1 + collatz_distance(3 * n + 1)"
   ]
  },
  {
   "cell_type": "code",
   "execution_count": null,
   "metadata": {},
   "outputs": [],
   "source": [
    "def replace_digit(n, d, r):\n",
    "    if n == 0:\n",
    "        return 0\n",
    "    \n",
    "    remainder = n % 10\n",
    "    if remainder == d:\n",
    "        remainder = r\n",
    "    \n",
    "    return replace_digit(n // 10, d, r) * 10 + remainder"
   ]
  }
 ],
 "metadata": {
  "language_info": {
   "name": "python"
  }
 },
 "nbformat": 4,
 "nbformat_minor": 2
}
