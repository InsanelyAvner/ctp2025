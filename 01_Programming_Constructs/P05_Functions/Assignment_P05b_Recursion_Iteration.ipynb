{
 "cells": [
  {
   "cell_type": "code",
   "execution_count": null,
   "metadata": {},
   "outputs": [],
   "source": [
    "def count_chars(string, char):\n",
    "    if len(string) == 0:\n",
    "        return 0\n",
    "        \n",
    "    count = 1 if string[0] == char else 0\n",
    "    \n",
    "    return count + count_chars(string[1:], char)"
   ]
  },
  {
   "cell_type": "code",
   "execution_count": null,
   "metadata": {},
   "outputs": [],
   "source": [
    "def string_matcher(str1, str2):\n",
    "    if len(str1) == 0 and len(str2) == 0:\n",
    "        return True\n",
    "    \n",
    "    if len(str1) == 0 or len(str2) == 0:\n",
    "        return False\n",
    "    \n",
    "    if str1[0] != str2[0]:\n",
    "        return False\n",
    "    \n",
    "    return string_matcher(str1[1:], str2[1:])"
   ]
  }
 ],
 "metadata": {
  "language_info": {
   "name": "python"
  }
 },
 "nbformat": 4,
 "nbformat_minor": 2
}
