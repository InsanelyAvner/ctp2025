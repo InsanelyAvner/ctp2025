{
 "cells": [
  {
   "attachments": {},
   "cell_type": "markdown",
   "metadata": {},
   "source": [
    "# P07b - Data Validation and Text-based User Menu\n",
    "\n",
    "## Syllabus\n",
    "2.4.3\tIdentify, explain and correct syntax, logic and runtime errors.  \n",
    "2.4.4\tDesign appropriate test cases using normal, abnormal and extreme data for testing and debugging programs.\n",
    "\n",
    "## Understanding Goals\n",
    "At the end of this chapter, you should be able to:\n",
    "- Understand the terminology of data integrity, data privacy and data security\n",
    "- Understand the difference between data validation and data verification\n",
    "- Implement data validation for text-based user menu"
   ]
  },
  {
   "cell_type": "markdown",
   "metadata": {},
   "source": [
    "## Section 1: Data Validation\n",
    "\n",
    "### _1.1 Data integrity, privacy and security_\n",
    "\n",
    "- Data Privacy: a requirement for data to be available only to authorised users.\n",
    "- Data Security: a requirement for data to be recoverable if lost or corrupted.\n",
    "- Data Integrity: a requirement for data to be accurate and up to date."
   ]
  },
  {
   "cell_type": "markdown",
   "metadata": {},
   "source": [
    "### _1.2 Data Verification vs Data Validation_\n",
    "\n",
    "**Data verification** is the process of checking a copy of data to make sure that it is exactly equal to the original copy of the data.\n",
    "\n",
    "For example, login process whereby the inputs of username and encrypted password are matched with the ones found in the database is a data verification process.\n",
    "\n",
    "In the chapter of Network, we will also learn about Parity Check and Checksum as data verification methods."
   ]
  },
  {
   "cell_type": "markdown",
   "metadata": {},
   "source": [
    "**Data validation** deals with making sure the data is valid (clean, correct and useful). It ensures the validity (mostly correctness and meaningfulness) of data.\n",
    "\n",
    "<table class=\"table table-bordered\">\n",
    "    <!-- Header Row -->\n",
    "    <tr>\n",
    "        <th style=\"width:20%; text-align:left\">Data Validation Checks</th>\n",
    "        <th style=\"width:80%; text-align:left\">Description</th>\n",
    "    </tr>\n",
    "    <tr>\n",
    "        <td style=\"text-align:left\">Presence Check</td>\n",
    "        <td style=\"text-align:left\">Check for empty fields</td>\n",
    "    </tr>\n",
    "    <tr>\n",
    "        <td style=\"text-align:left\">Type Check</td>\n",
    "        <td style=\"text-align:left\">Check if input is of the correct data type.</td>\n",
    "    </tr>\n",
    "    <tr>\n",
    "        <td style=\"text-align:left\">Range Check</td>\n",
    "        <td style=\"text-align:left\">Check if input is within the acceptable range/region.</td>\n",
    "    </tr>\n",
    "    <tr>\n",
    "        <td style=\"text-align:left\">Length Check</td>\n",
    "        <td style=\"text-align:left\">Check if input has the specific number of characters.</td>\n",
    "    </tr>\n",
    "    <tr>\n",
    "        <td style=\"text-align:left\">Layout/Format Check</td>\n",
    "        <td style=\"text-align:left\">Check if character of each position of an input matches the correct layout, especially code numbers which have a complex layout.</td>\n",
    "    </tr>\n",
    "    <tr>\n",
    "        <td style=\"text-align:left\">Restricted Value Check</td>\n",
    "        <td style=\"text-align:left\">Check input with a predefined set of data.</td>\n",
    "    </tr>\n",
    "</table>"
   ]
  },
  {
   "attachments": {},
   "cell_type": "markdown",
   "metadata": {},
   "source": [
    "## Section 2: Text-based User Menu\n",
    "\n",
    "### _2.1 Data Validation_\n",
    "Here are a list of data validation techniques used to check for user input:\n",
    "- presence check\n",
    "- type check\n",
    "- length check\n",
    "- range check\n",
    "- format check\n",
    "- check digit"
   ]
  },
  {
   "cell_type": "code",
   "execution_count": null,
   "metadata": {},
   "outputs": [],
   "source": [
    "def validate(user_input):\n",
    "    # returns False if input is invalid, True otherwise\n",
    "    if len(user_input) == 0:  # Presence check\n",
    "        print(\"Presence check failed. Please do not enter an empty input.\")\n",
    "        return False\n",
    "    elif not user_input.isdigit():  # Type check\n",
    "        print(\"Type check failed. Please enter a digit.\")\n",
    "        return False\n",
    "    elif int(user_input) < 1 or int(user_input) > 4:  # Range check\n",
    "        print(\"Range check failed. Please key in a value in between 1 and 4.\")\n",
    "        return False\n",
    "    else:  # returns True if all checks have been passed\n",
    "        return True\n",
    "\n",
    "    \n",
    "user_input = input(\"Please select an option 1 to 4: \")\n",
    "print(validate(user_input))"
   ]
  },
  {
   "attachments": {},
   "cell_type": "markdown",
   "metadata": {},
   "source": [
    "### _2.2 Adding while loop_\n",
    "Once we implement the checks, we should add it into a loop, so that user will be given a chance to make changes to their choice if the input was invalid."
   ]
  },
  {
   "cell_type": "code",
   "execution_count": null,
   "metadata": {},
   "outputs": [],
   "source": [
    "def valid_user_input(msg):\n",
    "    done = False\n",
    "    while not done:  # while done == False\n",
    "        user_input = input(msg)\n",
    "        done = validate(user_input)\n",
    "    return user_input\n",
    "\n",
    "\n",
    "user_input = valid_user_input(\"Please select an option 1 to 4: \")\n",
    "\n",
    "print(\"You have selected option:\", user_input)"
   ]
  },
  {
   "attachments": {},
   "cell_type": "markdown",
   "metadata": {},
   "source": [
    "### _2.3 Creating a user menu_\n",
    "\n",
    "Now it is time to combine these into proper user menu."
   ]
  },
  {
   "cell_type": "code",
   "execution_count": null,
   "metadata": {},
   "outputs": [],
   "source": [
    "def validate(user_input):\n",
    "    # returns False if input is invalid, True otherwise\n",
    "    if len(user_input) == 0:  # Presence check\n",
    "        print(\"Presence check failed. Please do not enter an empty input.\")\n",
    "        return False\n",
    "    elif not user_input.isdigit():  # Type check\n",
    "        print(\"Type check failed. Please enter a digit.\")\n",
    "        return False\n",
    "    elif int(user_input) < 1 or int(user_input) > 4:  # Range check\n",
    "        print(\"Range check failed. Please key in a value in between 1 and 4.\")\n",
    "        return False\n",
    "    else:  # returns True if all checks have been passed\n",
    "        return True\n",
    "    \n",
    "    \n",
    "def valid_user_input(msg):\n",
    "    done = False\n",
    "    while not done:  # while done == False\n",
    "        user_input = input(msg)\n",
    "        done = validate(user_input)\n",
    "    return user_input\n",
    "\n",
    "\n",
    "def display_menu():\n",
    "    menu_opts = \"\"\"\n",
    "1. Perform action 1\n",
    "2. Perform action 2\n",
    "3. Perform action 3\n",
    "4. Quit\n",
    "\"\"\"\n",
    "    print(menu_opts)\n",
    "\n",
    "    \n",
    "def menu():\n",
    "    done = False\n",
    "    while not done:\n",
    "        display_menu()\n",
    "        user_input = int(valid_user_input(\"Please select an option 1 to 4: \"))\n",
    "        if user_input == 1:\n",
    "            print(\"Performing action 1.\")\n",
    "        elif user_input == 2:\n",
    "            print(\"Performing action 2.\")\n",
    "        elif user_input == 3:\n",
    "            print(\"Performing action 3.\")\n",
    "        elif user_input == 4:\n",
    "            print(\"Quitting program. Thank you!\")\n",
    "            done = True\n",
    "\n",
    "            \n",
    "menu()"
   ]
  }
 ],
 "metadata": {
  "kernelspec": {
   "display_name": "Python 3",
   "language": "python",
   "name": "python3"
  },
  "language_info": {
   "codemirror_mode": {
    "name": "ipython",
    "version": 3
   },
   "file_extension": ".py",
   "mimetype": "text/x-python",
   "name": "python",
   "nbconvert_exporter": "python",
   "pygments_lexer": "ipython3",
   "version": "3.6.4"
  }
 },
 "nbformat": 4,
 "nbformat_minor": 2
}
