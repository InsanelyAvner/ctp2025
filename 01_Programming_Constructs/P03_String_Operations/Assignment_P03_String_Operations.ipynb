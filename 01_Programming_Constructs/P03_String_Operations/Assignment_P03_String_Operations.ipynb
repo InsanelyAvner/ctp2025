{
 "cells": [
  {
   "cell_type": "markdown",
   "metadata": {},
   "source": [
    "# Assignment - [P03] String Operations\n"
   ]
  },
  {
   "cell_type": "markdown",
   "metadata": {},
   "source": [
    "### Question 1\n",
    "\n",
    "#### String concatenation\n",
    "\n",
    "To concatenate strings in python, you can use the plus(+) sign.\n",
    "\n",
    "For example, \"There are 240 students in this class\" + \" and it is great!\" will become\n",
    "\"There are 240 students in this class and it is great!\"\n",
    "\n",
    "As an exercise, assign a string using `gunshot_single` and `car_exploded` to `guns_fired` such that `guns_fired` will have the value `'Bang!Boom!'`."
   ]
  },
  {
   "cell_type": "code",
   "execution_count": 1,
   "metadata": {},
   "outputs": [
    {
     "data": {
      "text/plain": [
       "'Bang!Boom!'"
      ]
     },
     "execution_count": 1,
     "metadata": {},
     "output_type": "execute_result"
    }
   ],
   "source": [
    "gunshot_single = 'Bang!'\n",
    "car_exploded = 'Boom!'\n",
    "guns_fired = gunshot_single + car_exploded"
   ]
  },
  {
   "cell_type": "markdown",
   "metadata": {},
   "source": [
    "### Question 2\n",
    "\n",
    "#### Multiplying strings\n",
    "\n",
    "You can multiply strings in python using the multiplication operator: *\n",
    "\n",
    "For example, `\"woof!\" * 3` will give `\"woof!woof!woof!\"`\n",
    "\n",
    "As an exercise, fill in the answer for `fire_3_times` such that it repeats `gunshot_single` for 3 times to get `'Bang!Bang!Bang!'`\n",
    "\n",
    "Then, fill in the answer `fire_21_times` such that it repeats `gunshot_single` for 21 times to get\n",
    "`Bang!Bang!Bang!.......Bang!Bang!` where `Bang!` occurs in the string 21 times."
   ]
  },
  {
   "cell_type": "code",
   "execution_count": 3,
   "metadata": {},
   "outputs": [
    {
     "data": {
      "text/plain": [
       "'Bang!Bang!Bang!Bang!Bang!Bang!Bang!Bang!Bang!Bang!Bang!Bang!Bang!Bang!Bang!Bang!Bang!Bang!Bang!Bang!Bang!'"
      ]
     },
     "execution_count": 3,
     "metadata": {},
     "output_type": "execute_result"
    }
   ],
   "source": [
    "gunshot_single = 'Bang!'\n",
    "fire_3_times = gunshot_single * 3\n",
    "fire_21_times = gunshot_single * 21\n"
   ]
  },
  {
   "cell_type": "code",
   "execution_count": 5,
   "metadata": {},
   "outputs": [
    {
     "name": "stdout",
     "output_type": "stream",
     "text": [
      "abcABCabd\n",
      "abcabcabc\n",
      "True\n",
      "False\n",
      "False\n",
      "False\n",
      "False\n"
     ]
    }
   ],
   "source": [
    "s = 'abc'\n",
    "t = 'ABC'\n",
    "u = 'abd'\n",
    "# write your answer below without using IDLE \n",
    "# s + t + u\n",
    "# your answer = abcABCabd\n",
    "# s - t\n",
    "# your answer = invalid, string cannot subtract sting\n",
    "# s*3\n",
    "# your answer = abcabcabc\n",
    "# s > t\n",
    "# your answer = True\n",
    "# s > u\n",
    "# your answer = False\n",
    "# s + t < s\n",
    "# your answer = False\n",
    "# t + u > s + u\n",
    "# your answer = False\n",
    "# t + s == s + t\n",
    "# your answer = False\n"
   ]
  },
  {
   "cell_type": "markdown",
   "metadata": {},
   "source": [
    "### Question 4\n",
    "\n",
    "#### Length of string\n",
    "\n",
    "You can use the inbuilt `len` function in python to calculate the length of a string. For example, `len('I am a short string')` will output 19.\n",
    "\n",
    "As an exercise, assign the length of `super_long_string` to `my_length`."
   ]
  },
  {
   "cell_type": "code",
   "execution_count": null,
   "metadata": {},
   "outputs": [],
   "source": [
    "super_long_string = \"I am so long that it is so taxing on the eyes to count the actual length of my string. You should rely on python to help you do this\"\n",
    "my_length = len(super_long_string)"
   ]
  },
  {
   "cell_type": "markdown",
   "metadata": {},
   "source": [
    "### Question 5\n",
    "\n",
    "#### String slicing\n",
    "\n",
    "You can perform string slicing to remove portions of string that we may not be interested in. \n",
    "\n",
    "For example, given `my_recent_purchase = 'I bought a new toy but it costed me 100 dollars'` and we can do `my_recent_purchase[:18]` to only retain the characters from the start to index 17 of the string. `my_recent_purchase[9:]` will output all the characters from index 9 to the end of the string. You can use also `my_recent_purchase[2:5]` to get the characters from index 2 to 4 of the string. Try them!\n",
    "\n",
    "As an exercise, assign the string consisting of the index 5 to index 15 (inclusive) from `long_string` to `character_from_5_to_15` using string slicing. "
   ]
  },
  {
   "cell_type": "code",
   "execution_count": null,
   "metadata": {},
   "outputs": [],
   "source": [
    "long_string = 'I am only interested in the characters from 5 to 15 in this string'\n",
    "character_from_5_to_15 = character_from_5_to_15 = long_string[5:16]"
   ]
  },
  {
   "cell_type": "markdown",
   "metadata": {},
   "source": [
    "### Question 6\n",
    "\n",
    "#### Given that: \n",
    "`s = 'pineapples'`\n",
    "\n",
    "Using string slicing on `s`, \n",
    "i) assign `'neappl'` to `s1`\n",
    "\n",
    "ii) assign `'ppaenip'` to `s2`\n",
    "\n",
    "iii) assign `'pna'` to `s3`\n",
    "\n",
    "iv) assign `'iepl'` to `s4`\n",
    "\n",
    "v) assign  `'selppaenip’` to `s5`"
   ]
  },
  {
   "cell_type": "code",
   "execution_count": 6,
   "metadata": {},
   "outputs": [
    {
     "name": "stdout",
     "output_type": "stream",
     "text": [
      "s1: neappl\n",
      "s2: ppaenip\n",
      "s3: pna\n",
      "s4: iepl\n",
      "s5: selppaenip\n"
     ]
    }
   ],
   "source": [
    "s = 'pineapples'\n",
    "\n",
    "# Fill in the code below this line\n",
    "s1 = s[2:8] # 'neappl'\n",
    "s2 = s[6::-1] # 'ppaenip'\n",
    "s3 = s[:5:2] # 'pna'\n",
    "s4 = s[1:8:2] # 'iepl'\n",
    "s5 = s[::-1] # 'selppaenip'"
   ]
  },
  {
   "cell_type": "markdown",
   "metadata": {},
   "source": [
    "### Question 7\n",
    "\n",
    "#### More on strings\n",
    "\n",
    "You can perform `find`, `replace` operations on strings to find and replace certain strings within another strings. For example, given `my_string = 'This is my dog'`, you can use `my_string.find('dog')` to obtain the start position of the string `'dog'` in `my_string`. `my_string.find('dog')` will output 11.\n",
    "\n",
    "You can use `my_string.replace('dog','cat')` to replace all occurrence of `'dog'` in `my_string` to `'cat'`.\n",
    "\n",
    "As an exercise, assign the value of the position of `'dog'` in the given `long_string` to the variable `position_of_word`. Secondly, replace it with a `'cat'` and assign it to variable `replaced_long_string`."
   ]
  },
  {
   "cell_type": "code",
   "execution_count": null,
   "metadata": {},
   "outputs": [],
   "source": [
    "long_string = 'Whenever i get home, i will always go and find my dog first'\n",
    "position_of_word = long_string.find('dog')\n",
    "replaced_long_string = long_string.replace('dog', 'cat')"
   ]
  },
  {
   "cell_type": "markdown",
   "metadata": {},
   "source": [
    "### Question 8\n",
    "\n",
    "#### Capital Letters\n",
    "\n",
    "Capitalisation is an important rule in English. We should always capitalise the first letter of our names and/or places of interests. In Python, there is the `.upper()` and `.lower()` built in functions for us to capitalise or un-capitalise letters.\n",
    "\n",
    "For example, the `name = \"adam\"` should have its first letter `\"a\"` capitalised to give us `\"Adam\"`. We do this by taking the first letter and `.upper()` it. \n",
    "\n",
    "As an exercise, capitalise the names given below by using the `.upper()` function in your code!"
   ]
  },
  {
   "cell_type": "code",
   "execution_count": 9,
   "metadata": {},
   "outputs": [
    {
     "name": "stdout",
     "output_type": "stream",
     "text": [
      "Adam\n",
      "Brentt\n",
      "Chloe Chua\n",
      "Daisy Wong\n"
     ]
    }
   ],
   "source": [
    "name_1 = \"adam\"\n",
    "name_2 = \"brentt\"\n",
    "name_3 = \"chloe chua\"\n",
    "name_4 = \"daisy wong\"\n",
    "\n",
    "cap_name_1 = name_1.title()\n",
    "cap_name_2 = name_2.title()\n",
    "cap_name_3 = name_3.title()\n",
    "cap_name_4 = name_4.title()"
   ]
  }
 ],
 "metadata": {
  "kernelspec": {
   "display_name": "Python 3",
   "language": "python",
   "name": "python3"
  },
  "language_info": {
   "codemirror_mode": {
    "name": "ipython",
    "version": 3
   },
   "file_extension": ".py",
   "mimetype": "text/x-python",
   "name": "python",
   "nbconvert_exporter": "python",
   "pygments_lexer": "ipython3",
   "version": "3.12.6"
  }
 },
 "nbformat": 4,
 "nbformat_minor": 2
}
