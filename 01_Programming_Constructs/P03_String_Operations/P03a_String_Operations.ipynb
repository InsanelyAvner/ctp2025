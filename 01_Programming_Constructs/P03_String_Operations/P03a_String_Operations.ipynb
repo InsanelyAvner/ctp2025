{
 "cells": [
  {
   "cell_type": "markdown",
   "metadata": {},
   "source": [
    "# P03a - String Operations\n",
    "\n",
    "## Syllabus\n",
    "2.2.1\tUnderstand the different data types: integer, real, char, string and Boolean; and initialise arrays (1-dimensional and 2-dimensional).  \n",
    "2.2.2\tUse common library functions for input/output, strings and mathematical operations.  \n",
    "2.2.3\tApply the fundamental programming constructs to control the flow of program execution:  \n",
    "- Sequence\n",
    "- Selection\n",
    "- Iteration\n",
    "\n",
    "## Understanding Goals\n",
    "\n",
    "At the end of this chapter, you should be able to:\n",
    "- Create new strings\n",
    "- Access individual characters using the index\n",
    "- Use the keyword `in` to check if a character or a substring is inside another string\n",
    "- Access substrings by using the string slicing operations\n",
    "- Use the string operators such as `+` and `*`\n",
    "- Understand that strings are immutable\n",
    "- Understand string related functions such as `len()`, `ord()`, `chr()`\n",
    "- Understand basic string methods such as `index()`, `find()`, `isdigit()`, `isalpha()`, `isupper()`, `islower()`, `lower()`, `upper()`, `replace()`\n",
    "- Understand the basic usage of function such as `print()`"
   ]
  },
  {
   "cell_type": "markdown",
   "metadata": {},
   "source": [
    "## Section 1 - String Basics\n",
    "\n",
    "### _1.1 Creating a String_\n",
    "\n",
    "To create a string in Python you need to use either single quotes or double quotes.\n",
    "\n",
    "#### ~ Example ~"
   ]
  },
  {
   "cell_type": "code",
   "execution_count": null,
   "metadata": {},
   "outputs": [],
   "source": [
    "# We can use double quote\n",
    "s1 = \"String built with double quotes\""
   ]
  },
  {
   "cell_type": "code",
   "execution_count": null,
   "metadata": {},
   "outputs": [],
   "source": [
    "# We can also use single quote\n",
    "s2 = 'String can also be built with single quotes'"
   ]
  },
  {
   "cell_type": "markdown",
   "metadata": {},
   "source": [
    "We can use combinations of double and single quotes, or use the escape character `\\`."
   ]
  },
  {
   "cell_type": "code",
   "execution_count": null,
   "metadata": {},
   "outputs": [],
   "source": [
    "s3 = \"I'm able to use the single quotes inside a double-quoted string!\""
   ]
  },
  {
   "cell_type": "code",
   "execution_count": null,
   "metadata": {
    "scrolled": true
   },
   "outputs": [],
   "source": [
    "print(\"I can also use the escape character to include a double quote sign like this: \\\".\")"
   ]
  },
  {
   "cell_type": "markdown",
   "metadata": {},
   "source": [
    "We can also create a long string using triple quotes."
   ]
  },
  {
   "cell_type": "code",
   "execution_count": null,
   "metadata": {},
   "outputs": [],
   "source": [
    "long_str = \"\"\"\n",
    "This is a long string.\n",
    "\n",
    "It can be used to store long data or some times can be used for comment purposes.\n",
    "\"\"\"\n",
    "print(long_str)"
   ]
  },
  {
   "cell_type": "code",
   "execution_count": null,
   "metadata": {},
   "outputs": [],
   "source": [
    "print(\"\"\"\n",
    "hello 'world', \\\"how are u\\\"\n",
    "\"\"\") # do take extra care when you are adding the double quotes as it might be overwritten"
   ]
  },
  {
   "cell_type": "markdown",
   "metadata": {},
   "source": [
    "There are special characters related to simple formats of strings. The most common ones used are:\n",
    "- `\"\\n\"`: new line character\n",
    "- `\"\\t\"`: tab character\n",
    "- `\"\\r\"`: carriage return"
   ]
  },
  {
   "cell_type": "code",
   "execution_count": null,
   "metadata": {},
   "outputs": [],
   "source": [
    "print(\"test tab\\tand test new line\\nend test\")"
   ]
  },
  {
   "cell_type": "code",
   "execution_count": null,
   "metadata": {},
   "outputs": [],
   "source": [
    "print(\"test tab\\rand test new line\\nend test\")"
   ]
  },
  {
   "cell_type": "markdown",
   "metadata": {},
   "source": [
    "### _1.2 String Indexing_\n",
    "\n",
    "A string is a sequence, which means Python can use indexes to access parts of the sequence.  \n",
    "**Python uses 0-indexing, so please be very careful that the first element has an index of \"0\"**.\n",
    "\n",
    "<table class=\"table table-bordered\">\n",
    "    <tr>\n",
    "        <th style=\"width:10%; text-align:left\">Index</th>\n",
    "        <th style=\"width:5%; text-align:center\">0</th>\n",
    "        <th style=\"width:5%; text-align:center\">1</th>\n",
    "        <th style=\"width:5%; text-align:center\">2</th>\n",
    "        <th style=\"width:5%; text-align:center\">3</th>\n",
    "        <th style=\"width:5%; text-align:center\">4</th>\n",
    "        <th style=\"width:5%; text-align:center\">5</th>\n",
    "        <th style=\"width:5%; text-align:center\">6</th>\n",
    "        <th style=\"width:5%; text-align:center\">7</th>\n",
    "        <th style=\"width:5%; text-align:center\">8</th>\n",
    "        <th style=\"width:5%; text-align:center\">9</th>\n",
    "        <th style=\"width:5%; text-align:center\">10</th>\n",
    "        <th style=\"width:5%; text-align:center\">11</th>\n",
    "    </tr>\n",
    "    <tr>\n",
    "        <th style=\"text-align:left\">Character</th>\n",
    "        <td style=\"text-align:center\">H</td>\n",
    "        <td style=\"text-align:center\">e</td>\n",
    "        <td style=\"text-align:center\">l</td>\n",
    "        <td style=\"text-align:center\">l</td>\n",
    "        <td style=\"text-align:center\">o</td>\n",
    "        <td style=\"text-align:center\"> </td>\n",
    "        <td style=\"text-align:center\">W</td>\n",
    "        <td style=\"text-align:center\">o</td>\n",
    "        <td style=\"text-align:center\">r</td>\n",
    "        <td style=\"text-align:center\">l</td>\n",
    "        <td style=\"text-align:center\">d</td>\n",
    "        <td style=\"text-align:center\">!</td>\n",
    "    </tr>\n",
    "</table>\n",
    "\n",
    "To access an individual character inside a string, we can put its index the square brackets, such as `s[0]`.\n",
    "\n",
    "#### ~ Example ~"
   ]
  },
  {
   "cell_type": "code",
   "execution_count": null,
   "metadata": {},
   "outputs": [],
   "source": [
    "s = \"Hello World!\"\n",
    "print(s)\n",
    "print(s[0], s[2], s[11])"
   ]
  },
  {
   "cell_type": "markdown",
   "metadata": {},
   "source": [
    "### _1.3 Using the `in` Keyword_\n",
    "\n",
    "We can check if a character or a string is inside another string by using the `in` keyword. It returns a Boolean type (True or False)\n",
    "\n",
    "#### ~ Example ~"
   ]
  },
  {
   "cell_type": "code",
   "execution_count": null,
   "metadata": {},
   "outputs": [],
   "source": [
    "s = \"Hello World!\"\n",
    "print('e' in s)\n",
    "print('x' in s)\n",
    "print(\"Wor\" in s)"
   ]
  },
  {
   "cell_type": "markdown",
   "metadata": {},
   "source": [
    "### _1.4 Using the `len()` function_\n",
    "\n",
    "We can use the built-in function `len()` to find out the length of a string.\n",
    "\n",
    "#### ~ Example ~"
   ]
  },
  {
   "cell_type": "code",
   "execution_count": null,
   "metadata": {},
   "outputs": [],
   "source": [
    "s = \"Hello World!\"\n",
    "print(len(s))"
   ]
  },
  {
   "cell_type": "markdown",
   "metadata": {},
   "source": [
    "## Section 2 - String Slicing Operations\n",
    "\n",
    "### _2.1 Using `[start:stop]`_\n",
    "\n",
    "We can use `[start:stop]` to perform string slicing operations:\n",
    "- `start` denotes the beginning index of the substring. The substring will **include** the character at the `start` index, or we can say it is **inclusive**.\n",
    "- `stop` denotes the ending index of the substring. The substring will **exclude** the character at the `stop` index, or we can say it is **exclusive**.\n",
    "\n",
    "#### ~ Example ~"
   ]
  },
  {
   "cell_type": "code",
   "execution_count": null,
   "metadata": {},
   "outputs": [],
   "source": [
    "s = \"Hello World!\"\n",
    "print(s[0:3])\n",
    "print(s[4:5])"
   ]
  },
  {
   "cell_type": "markdown",
   "metadata": {},
   "source": [
    "If a value is missing, it will take the default beginning index as 0 or ending index as the length of the string.\n",
    "\n",
    "For example:"
   ]
  },
  {
   "cell_type": "code",
   "execution_count": null,
   "metadata": {},
   "outputs": [],
   "source": [
    "s = \"Hello World!\"\n",
    "print(s[:3])\n",
    "print(s[7:])\n",
    "print(s[:])"
   ]
  },
  {
   "cell_type": "markdown",
   "metadata": {},
   "source": [
    "### _2.2 Negative Index_\n",
    "\n",
    "Negative index can be used in python too.\n",
    "\n",
    "<table class=\"table table-bordered\">\n",
    "    <tr>\n",
    "        <th style=\"width:10%; text-align:left\">Index</th>\n",
    "        <th style=\"width:5%; text-align:center\">0</th>\n",
    "        <th style=\"width:5%; text-align:center\">1</th>\n",
    "        <th style=\"width:5%; text-align:center\">2</th>\n",
    "        <th style=\"width:5%; text-align:center\">3</th>\n",
    "        <th style=\"width:5%; text-align:center\">4</th>\n",
    "        <th style=\"width:5%; text-align:center\">5</th>\n",
    "        <th style=\"width:5%; text-align:center\">6</th>\n",
    "        <th style=\"width:5%; text-align:center\">7</th>\n",
    "        <th style=\"width:5%; text-align:center\">8</th>\n",
    "        <th style=\"width:5%; text-align:center\">9</th>\n",
    "        <th style=\"width:5%; text-align:center\">10</th>\n",
    "        <th style=\"width:5%; text-align:center\">11</th>\n",
    "    </tr>\n",
    "    <tr>\n",
    "        <th style=\"text-align:left\">-ve Index</th>\n",
    "        <td style=\"text-align:center\">-12</td>\n",
    "        <td style=\"text-align:center\">-11</td>\n",
    "        <td style=\"text-align:center\">-10</td>\n",
    "        <td style=\"text-align:center\">-9</td>\n",
    "        <td style=\"text-align:center\">-8</td>\n",
    "        <td style=\"text-align:center\">-7</td>\n",
    "        <td style=\"text-align:center\">-6</td>\n",
    "        <td style=\"text-align:center\">-5</td>\n",
    "        <td style=\"text-align:center\">-4</td>\n",
    "        <td style=\"text-align:center\">-3</td>\n",
    "        <td style=\"text-align:center\">-2</td>\n",
    "        <td style=\"text-align:center\">-1</td>\n",
    "    </tr>\n",
    "    <tr>\n",
    "        <th style=\"text-align:left\">Character</th>\n",
    "        <td style=\"text-align:center\">H</td>\n",
    "        <td style=\"text-align:center\">e</td>\n",
    "        <td style=\"text-align:center\">l</td>\n",
    "        <td style=\"text-align:center\">l</td>\n",
    "        <td style=\"text-align:center\">o</td>\n",
    "        <td style=\"text-align:center\"> </td>\n",
    "        <td style=\"text-align:center\">W</td>\n",
    "        <td style=\"text-align:center\">o</td>\n",
    "        <td style=\"text-align:center\">r</td>\n",
    "        <td style=\"text-align:center\">l</td>\n",
    "        <td style=\"text-align:center\">d</td>\n",
    "        <td style=\"text-align:center\">!</td>\n",
    "    </tr>\n",
    "</table>\n",
    "\n",
    "For example:"
   ]
  },
  {
   "cell_type": "code",
   "execution_count": null,
   "metadata": {},
   "outputs": [],
   "source": [
    "s = \"Hello World!\"\n",
    "print(s[-1])\n",
    "print(s[-12])\n",
    "print(s[-9:-5])"
   ]
  },
  {
   "cell_type": "markdown",
   "metadata": {},
   "source": [
    "### _2.3 Using `[start:stop:step]`_\n",
    "\n",
    "By using `[start:stop:step]`, we can also perform string slicing operations to grab specific elements with the `step` value (the default is 1).\n",
    "\n",
    "For example:"
   ]
  },
  {
   "cell_type": "code",
   "execution_count": null,
   "metadata": {},
   "outputs": [],
   "source": [
    "# Grab everything, but go in step sizes of 2\n",
    "s = \"Hello World!\"\n",
    "print(s[::2])"
   ]
  },
  {
   "cell_type": "markdown",
   "metadata": {},
   "source": [
    "#### - Exercise -\n",
    "\n",
    "Given `w = \"watermelons\"`.\n",
    "\n",
    "Use string slicing operations on `w`:\n",
    "\n",
    "a) assign `\"wtreos\"` to `w1`  \n",
    "b) assign `\"treo\"` to `w2`  \n",
    "c) assign `\"ee\"` to `w3`  \n",
    "d) assign `\"omt\"` to `w4`"
   ]
  },
  {
   "cell_type": "code",
   "execution_count": 5,
   "metadata": {},
   "outputs": [
    {
     "name": "stdout",
     "output_type": "stream",
     "text": [
      "wtreos treo ee omt\n"
     ]
    }
   ],
   "source": [
    "w = \"watermelons\"\n",
    "\n",
    "# your code for Exercise\n",
    "w1 = w[::2]  # \"wtreos\"\n",
    "w2 = w[2:9:2]  # \"treo\"\n",
    "w3 = w[3:7:3]  # \"ee\"\n",
    "w4 = w[8:1:-3]  # \"omt\"\n",
    "\n",
    "print(w1, w2, w3, w4)"
   ]
  },
  {
   "cell_type": "markdown",
   "metadata": {},
   "source": [
    "### _2.4 Reversing a String_"
   ]
  },
  {
   "cell_type": "code",
   "execution_count": null,
   "metadata": {},
   "outputs": [],
   "source": [
    "# We can use step value of -1 to reverse a string\n",
    "s = \"Hello World!\"\n",
    "print(s[::-1])"
   ]
  },
  {
   "cell_type": "markdown",
   "metadata": {},
   "source": [
    "### _2.5 String Operators_\n",
    "\n",
    "We can combine strings together by using the `+` operator.\n",
    "\n",
    "For example:"
   ]
  },
  {
   "cell_type": "code",
   "execution_count": null,
   "metadata": {},
   "outputs": [],
   "source": [
    "long_str = \"This\" + \" is \" + \"a long string!\"\n",
    "print(long_str)"
   ]
  },
  {
   "cell_type": "markdown",
   "metadata": {},
   "source": [
    "However, we cannot remove parts of the string using the `-` operator.\n",
    "\n",
    "For example:"
   ]
  },
  {
   "cell_type": "code",
   "execution_count": null,
   "metadata": {},
   "outputs": [],
   "source": [
    "# run the code and see what will happen\n",
    "str_ = \"this is a long string\" - \"g\"\n",
    "print(str_)"
   ]
  },
  {
   "cell_type": "markdown",
   "metadata": {},
   "source": [
    "We can use `*` operator to create repitition.\n",
    "\n",
    "For example:"
   ]
  },
  {
   "cell_type": "code",
   "execution_count": null,
   "metadata": {},
   "outputs": [],
   "source": [
    "s = \"Hello World!\"\n",
    "long_str = s * 3\n",
    "print(long_str)"
   ]
  },
  {
   "cell_type": "markdown",
   "metadata": {},
   "source": [
    "#### - Exercise -\n",
    "\n",
    "Given `s = \"jackfruit\"`\n",
    "\n",
    "Use string slicing operations and string operators on `s`:  \n",
    "\n",
    "a) assign `\"ackackack\"` to `s1`  \n",
    "b) assign `\"rfkcarfkcarfkcarfkca\"` to `s2`  \n",
    "c) assign `\"tiurfkca\"` to `s3`  \n",
    "d) assign `\"tiurfjack\"` to `s4`  \n",
    "e) assign `\"tufcjakri\"` to `s5`"
   ]
  },
  {
   "cell_type": "code",
   "execution_count": 6,
   "metadata": {},
   "outputs": [
    {
     "name": "stdout",
     "output_type": "stream",
     "text": [
      "ackackack rfkcarfkcarfkcarfkca tiurfkca tiurfjack tufcjakri\n"
     ]
    }
   ],
   "source": [
    "s = \"jackfruit\"\n",
    "\n",
    "# your code for Exercise\n",
    "s1 = s[1:4] * 3            # \"ackackack\"\n",
    "s2 = s[5:0:-1] * 4         # \"rfkcarfkcarfkcarfkca\"\n",
    "s3 = s[8:0:-1]             # \"tiurfkca\"\n",
    "s4 = s[8:3:-1] + s[0:4]    # \"tiurfjack\"\n",
    "s5 = s[8] + s[6] + s[4] + s[2] + s[0] + s[1] + s[3] + s[5] + s[7]  # \"tufcjakri\"\n",
    "\n",
    "print(s1, s2, s3, s4, s5)"
   ]
  },
  {
   "cell_type": "markdown",
   "metadata": {},
   "source": [
    "### _2.6 Strings are Immutable_\n",
    "\n",
    "Once a string is created, it is impossible to change its content.\n",
    "\n",
    "#### ~ Example ~"
   ]
  },
  {
   "cell_type": "code",
   "execution_count": null,
   "metadata": {},
   "outputs": [],
   "source": [
    "s = \"Hello World!\"\n",
    "# Uncomment the following line to see what would happen when we try to change one character inside the string.\n",
    "# s[0] = \"h\""
   ]
  },
  {
   "cell_type": "markdown",
   "metadata": {},
   "source": [
    "However, we can use string slicing and concatenation to create new strings.  \n",
    "**Take note that since strings are immutable, `new_s` is totally a new string object and has no relationship with the original string `s`.**\n",
    "\n",
    "#### ~ Example ~"
   ]
  },
  {
   "cell_type": "code",
   "execution_count": null,
   "metadata": {},
   "outputs": [],
   "source": [
    "# If we want to change the captital letters \"H\" and \"W\" to lowercase, we use the following approach:\n",
    "s = \"Hello World!\"\n",
    "new_s = \"h\" + s[1:6] + \"w\" + s[7:]\n",
    "print(new_s)"
   ]
  },
  {
   "cell_type": "markdown",
   "metadata": {},
   "source": [
    "## Section 3 - Basic Built-in Methods/Functions\n",
    "\n",
    "Objects in Python usually have built-in methods. These methods are functions inside the object that can perform actions or commands on the object itself.  \n",
    "**we will learn about functions/methods in more depth in later chapters**\n",
    "\n",
    "We call methods with a period and then the method name, where parameters are arguments we can pass into the method. For example:  \n",
    "`object.method(parameters)`"
   ]
  },
  {
   "cell_type": "markdown",
   "metadata": {},
   "source": [
    "### _3.1 Using the `index()` method_\n",
    "\n",
    "We can use the built-in method `index()` to find out the starting index of the first occurrence of a substring.\n",
    "\n",
    "An `ValueError` will be raised if the substring cannot be found.\n",
    "\n",
    "#### ~ Example ~"
   ]
  },
  {
   "cell_type": "code",
   "execution_count": null,
   "metadata": {},
   "outputs": [],
   "source": [
    "s = \"Hello World\"\n",
    "print(s.index(\"l\"))\n",
    "print(s.index(\" \"))\n",
    "# print(s.index(\"x\"))  # uncomment to see the error"
   ]
  },
  {
   "cell_type": "markdown",
   "metadata": {},
   "source": [
    "### _3.2 Using the `find()` method_\n",
    "\n",
    "We can also use the built-in method `find()` to find out the starting index of the first occurrence of a substring.\n",
    "\n",
    "If a subtring is not found, the value `-1` will be returned instead of raising a `ValueError`.\n",
    "\n",
    "#### ~ Example ~"
   ]
  },
  {
   "cell_type": "code",
   "execution_count": null,
   "metadata": {},
   "outputs": [],
   "source": [
    "s = \"Hello World\"\n",
    "print(s.find(\"haha\"))\n",
    "print(s.find(\"x\"))"
   ]
  },
  {
   "cell_type": "markdown",
   "metadata": {},
   "source": [
    "However, `index()` method can also be used in other sequence objects such as `list` or `tuple`, whereas `find()` method is only applicable for `string` objects."
   ]
  },
  {
   "cell_type": "markdown",
   "metadata": {},
   "source": [
    "### _3.3 Using the `isdigit()` and `isalpha()` methods_\n",
    "\n",
    "We can use the built-in method `isdigit()` and `isalpha()` to determine if a string value contains digits or alphabets.\n",
    "\n",
    "#### ~ Example ~"
   ]
  },
  {
   "cell_type": "code",
   "execution_count": null,
   "metadata": {},
   "outputs": [],
   "source": [
    "print(\"9\".isdigit())\n",
    "print(\"z\".isalpha())\n",
    "print(\"55505\".isdigit())\n",
    "print(\"aa\".isalpha())\n",
    "print(\"a_a\".isdigit())\n",
    "print(\"*_*\".isalpha())"
   ]
  },
  {
   "cell_type": "markdown",
   "metadata": {},
   "source": [
    "### _3.4 Using the `ord()` and `chr()` functions_\n",
    "\n",
    "We can use the built-in function `ord()` and `chr()` to convert from character to its ASCII values and from ASCII values back to character.  \n",
    "**Take note that the string parameter used in `ord()` much have a length of 1; and integer parameter in `chr()` must be in range 0 to 255 inclusive.**\n",
    "\n",
    "#### ~ Example ~"
   ]
  },
  {
   "cell_type": "code",
   "execution_count": 7,
   "metadata": {},
   "outputs": [
    {
     "name": "stdout",
     "output_type": "stream",
     "text": [
      "65\n",
      "A\n"
     ]
    }
   ],
   "source": [
    "print(ord(\"A\"))\n",
    "print(chr(65))"
   ]
  },
  {
   "cell_type": "markdown",
   "metadata": {},
   "source": [
    "#### - Exercise -\n",
    "\n",
    "Given `s = \"I love hCI\"`.\n",
    "\n",
    "Create a new string `new_s` with `\"h\"` being capitalised."
   ]
  },
  {
   "cell_type": "code",
   "execution_count": 10,
   "metadata": {},
   "outputs": [
    {
     "name": "stdout",
     "output_type": "stream",
     "text": [
      "I love HCI\n"
     ]
    }
   ],
   "source": [
    "s = \"I love hCI\"\n",
    "\n",
    "# your code for Exercise\n",
    "new_s = \"\".join([chr(ord(i)-32) if i == \"h\" else i for i in s])\n",
    "\n",
    "print(new_s)"
   ]
  },
  {
   "cell_type": "markdown",
   "metadata": {},
   "source": [
    "### _3.5 Using the `islower()` and `isupper()` functions_\n",
    "\n",
    "We can use the built-in function `islower()` and `isupper()` to check if all the characters in the string are lowercase or uppercase. It returns Boolean.\n",
    "\n",
    "**Take note that the fucntions does not take in any parameters.**\n",
    "\n",
    "Some exceptions are:\n",
    "\n",
    "a) Returns `True` for whitespaces, but when the string contains only whitespaces, it returns `False`\n",
    "\n",
    "b) Returns `True` for Digits and Symbols, but when the string contains only digits and symbols, it returns `False`\n",
    "\n",
    "For Example:"
   ]
  },
  {
   "cell_type": "code",
   "execution_count": null,
   "metadata": {
    "scrolled": false
   },
   "outputs": [],
   "source": [
    "print(\"i love computing!\".islower())\n",
    "print(\"ILoveCOMP\".islower())\n",
    "print(\"I LOVE COMPUTING!\".isupper())\n",
    "print(\"ILoveComp\".isupper())"
   ]
  },
  {
   "cell_type": "markdown",
   "metadata": {},
   "source": [
    "### _3.6 Using the `upper()` and `lower()` functions_\n",
    "We can use the built-in functions `upper()` and `lower()` to convert the given string into lowercase and returns the string.\n",
    "\n",
    "**Take note that the functions does not take in any parameters.**\n",
    "**Digits and symbols are returned as they are**\n",
    "\n",
    "For Example:"
   ]
  },
  {
   "cell_type": "code",
   "execution_count": null,
   "metadata": {},
   "outputs": [],
   "source": [
    "print(\"i can change this into a fully UPPERCASE sentence!\".upper())\n",
    "print(\"I CAN ALSO MAKE THIS INTO A FULLY lowercase SENTENCE!\".lower())"
   ]
  },
  {
   "cell_type": "markdown",
   "metadata": {},
   "source": [
    "### _3.7 Using the `replace()` function_\n",
    "We can also make use of this built-in function `replace()` to replace a phrase with another phrase.\n",
    "\n",
    "`replace(old_phrase, new_phrase, number_of_occurences)`\n",
    "\n",
    "\n",
    "**Number of occurences is optional. It specifies the number of occurance of the old value you would like to replace. By default all occurences will be replaced**\n",
    "\n",
    "For Example:"
   ]
  },
  {
   "cell_type": "code",
   "execution_count": null,
   "metadata": {
    "scrolled": true
   },
   "outputs": [],
   "source": [
    "print(\"I like Bananas.\".replace(\"Bananas\", \"Durians\"))\n",
    "print(\"I like bananas.\".replace(\"I\", \"Alvin\"))"
   ]
  },
  {
   "cell_type": "markdown",
   "metadata": {},
   "source": [
    "#### ~ Exercise ~\n",
    "Replace all occurences of he with she using `replace()`"
   ]
  },
  {
   "cell_type": "code",
   "execution_count": 2,
   "metadata": {},
   "outputs": [
    {
     "data": {
      "text/plain": [
       "'She told herself that she will not do it again. She is very determined that she will not do it again.'"
      ]
     },
     "execution_count": 2,
     "metadata": {},
     "output_type": "execute_result"
    }
   ],
   "source": [
    "txt = \"He told himself that he will not do it again. He is very determined that he will not do it again.\"\n",
    "\n",
    "# your code below\n",
    "txt.replace(\"he\", \"she\").replace(\"He\", \"She\").replace(\"him\", \"her\")"
   ]
  },
  {
   "cell_type": "markdown",
   "metadata": {},
   "source": [
    "### 3.8 `print()` Function\n",
    "\n",
    "The `print()` function is able to print the content inside the parentheses to the screen or output device. The function contains an argument which allows how the print out is to be presented.\n",
    "\n",
    "Notably `sep` and `end` are useful arguments to specify the seperators and endline characters.\n",
    "\n",
    "Default value is `sep = ' '` and `end = '\\n'` if left unspecified."
   ]
  },
  {
   "cell_type": "code",
   "execution_count": null,
   "metadata": {},
   "outputs": [],
   "source": [
    "a = 1\n",
    "b = 2\n",
    "c = 3\n",
    "print(\"Default seperator:\")\n",
    "print(a,b,c)\n",
    "print(\"Seperator changed to '->'\")\n",
    "print(a,b,c, sep='->')\n",
    "print(\"Seperator changed to '\\\\n'\")  # \\ is an escape character, to print out \\, we need to use \\\\\n",
    "print(a,b,c, sep=\"\\n\")\n",
    "print(\"Seperator changed to '\\\\r'\")\n",
    "print(a,b,c, sep=\"\\r\")"
   ]
  },
  {
   "cell_type": "code",
   "execution_count": null,
   "metadata": {},
   "outputs": [],
   "source": [
    "print(\"Hello\", end=\"!\")\n",
    "print(\"Hi\", end=\"\")\n",
    "print(\"there!\")"
   ]
  },
  {
   "cell_type": "markdown",
   "metadata": {},
   "source": [
    "## Section 4 - References\n",
    "\n",
    "1. [Difference Between Method and Function in Python | Python Method Vs Function](https://data-flair.training/blogs/python-method-and-function/)\n",
    "2. [Difference Between find() and index()](https://stackoverflow.com/questions/22190064/difference-between-find-and-index)\n",
    "3. [Application of islower(), isupper(), upper() and lower()](https://www.geeksforgeeks.org/isupper-islower-lower-upper-python-applications/#:~:text=In%20Python%2C%20islower()%20is,otherwise%2C%20returns%20%E2%80%9CFalse%E2%80%9D.)\n",
    "4. [String replacement](https://www.w3schools.com/python/ref_string_replace.asp)"
   ]
  }
 ],
 "metadata": {
  "kernelspec": {
   "display_name": "Python 3",
   "language": "python",
   "name": "python3"
  },
  "language_info": {
   "codemirror_mode": {
    "name": "ipython",
    "version": 3
   },
   "file_extension": ".py",
   "mimetype": "text/x-python",
   "name": "python",
   "nbconvert_exporter": "python",
   "pygments_lexer": "ipython3",
   "version": "3.12.6"
  }
 },
 "nbformat": 4,
 "nbformat_minor": 1
}
