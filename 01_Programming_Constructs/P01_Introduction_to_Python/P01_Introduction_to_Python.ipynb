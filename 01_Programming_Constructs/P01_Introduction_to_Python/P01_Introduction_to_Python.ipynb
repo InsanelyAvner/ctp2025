{
 "cells": [
  {
   "cell_type": "markdown",
   "metadata": {},
   "source": [
    "# P01 - Introduction to Python\n",
    "\n",
    "### Syllabus\n",
    "2.2.1\tUnderstand the different data types: integer, real, char, string and Boolean; and initialise arrays (1-dimensional and 2-dimensional).\n",
    "\n",
    "### Understanding Goals\n",
    "\n",
    "In this chapter, we will explore and discuss:\n",
    "- What is computing and computational thinking\n",
    "- A set of general problem solving strategies\n",
    "\n",
    "At the end of this chapter, you should be able to:\n",
    "- Understand basic data types in python\n",
    "- Understand basic python operators\n",
    "- Understand basic rules and naming convention of variables\n",
    "\n",
    "You should know how to:\n",
    "- Include comments\n",
    "- Use `print()` function to display values onto the screen\n",
    "- Perform type conversion\n",
    "- Declare and initiatlize variables"
   ]
  },
  {
   "cell_type": "markdown",
   "metadata": {},
   "source": [
    "## Section 1 - Computing and Computational Thinking\n",
    "\n",
    "### _1.1 What is Programming?_\n",
    "\n",
    "Programming is the process of creating **a set of specific instructions** for the computer to follow so that it can help you **solve a specific problem**.\n",
    "\n",
    "A programming language is a formal constructed language designed to **communicate instructions** to a machine, particularly a computer. Programming languages can be used to create programs that control the behavior of a machine and/or to express algorithms precisely.\n",
    "\n",
    "### _1.2 What is Computational Thinking_\n",
    "\n",
    "Computational thinking is the process of **formulating a problem** and **expressing its solution(s)** in such a way that a computer can effectively carry out.\n",
    "\n",
    "The characteristics that define computational thinking are decomposition, pattern recognition/data representation, generalization/abstraction, algorithms, etc.  \n",
    "Reference: [Wikipedia - Computational Thinking](https://en.wikipedia.org/wiki/Computational_thinking)\n",
    "\n",
    "### _1.3 General Problem Solving Strategies_\n",
    "\n",
    "Here is a list of problem solving strategies that we will be using regularly when solving computing problems.\n",
    "\n",
    "- **Understanding the problem**\n",
    "\\- Identify the problem and understand the problem statement.\n",
    "\\- Identify the inputs and outputs of the problem.\n",
    "\\- Identify the constraints of the problem.\n",
    "\n",
    "- **Identifying a subtask/Decomposition**  \n",
    "\\- Break a problem into smaller pieces whose outcomes lead to a combined solution.\n",
    "\n",
    "- **Looking for a pattern/Pattern Recognition**  \n",
    "\\- Observe trends by organising data or creating representations.  \n",
    "\\- Pattern recognition is a fundamental concept that involves finding similarities or patterns among smaller, decomposed problems that help in the solving of complex problems more efficiently.\n",
    "\n",
    "- **Predicting and Comparing**  \n",
    "\\- Make conjectures about the output of a program for a given input. Then they confirm whether their conjectures are correct based on the outputs of the actual program.\n",
    "\n",
    "- **Code Tracing and Annotating**  \n",
    "\\- Step through pseudocode or program code to understand and explain what is happening in a particular step of the program.\n",
    "\n",
    "- **Working Backward**  \n",
    "\\- Knowing the output for a certain input, work backward to locate the code which affected the output.\n",
    "\n",
    "- **Error Analysis**  \n",
    "\\- Determine and detect errors in a program."
   ]
  },
  {
   "cell_type": "markdown",
   "metadata": {},
   "source": [
    "## Section 2 - Introduction to Python Programming\n",
    "\n",
    "### _2.1 Python as Programming Language_\n",
    "\n",
    "Python is a programming language that lets you work quickly and integrate systems more effectively. There are two major Python versions, Python 2 and Python 3. Python 2 and 3 are quite different. This tutorial uses Python 3, because it more semantically correct and supports newer features.\n",
    "\n",
    "Python is an interpreted, high-level, general-purpose programming language. Created by Guido van Rossum and first released in 1991, Python has a design philosophy that emphasizes code readability, notably using significant whitespace. It provides constructs that enable clear programming on both small and large scales.  \n",
    "Reference: [Wikipedia - Python](https://en.wikipedia.org/wiki/Python_(programming_language))\n",
    "\n",
    "Jupyter Notebook is an open-source web application that allows you to create and share documents that contain live code, equations, visualizations and narrative text."
   ]
  },
  {
   "cell_type": "markdown",
   "metadata": {},
   "source": [
    "### _2.2 Print and Comment_\n",
    "\n",
    "The `print()` function is able to print the content inside the parentheses to the screen or output device.\n",
    "\n",
    "Comments in Python start with the hash character, `#`, and extend to the end of the physical line. A comment may appear at the start of a line or following whitespace or code, but not within a string literal.\n",
    "\n",
    "#### ~ Example ~\n",
    "Type the following code in the cell below and run it.\n",
    "\n",
    "```python\n",
    "print(\"Hello World!\")\n",
    "```"
   ]
  },
  {
   "cell_type": "code",
   "execution_count": 1,
   "metadata": {},
   "outputs": [
    {
     "name": "stdout",
     "output_type": "stream",
     "text": [
      "Hello World!\n"
     ]
    }
   ],
   "source": [
    "# type your code here\n",
    "print(\"Hello World!\")"
   ]
  },
  {
   "cell_type": "code",
   "execution_count": null,
   "metadata": {},
   "outputs": [],
   "source": [
    "# Hashtag can be used to start a comment\n",
    "print(\"Charaters in quotation marks will be treated as a string\")  # We will learn about string later\n",
    "print(\"# hashtag inside a string won't be treated as a comment\")  # A comment can be placed after a code statement"
   ]
  },
  {
   "cell_type": "markdown",
   "metadata": {},
   "source": [
    "## Section 3 - Data Type and Variable\n",
    "\n",
    "### _3.1 Data Type_\n",
    "\n",
    "In computer science and computer programming, a data type is an attribute of data which tells the compiler or interpreter how the programmer intends to use the data.  \n",
    "Reference: [Wikipedia - Data Type](https://en.wikipedia.org/wiki/Data_type)\n",
    "\n",
    "**What is a primitive data type?**\n",
    "\n",
    "A primitive data type is a basic data type provided by a programming language as a basic building block. Most programming languages also allow the programmer to create additional data types that are derived from the primitive data types.\n",
    "\n",
    "**Difference between primitive data types and data structures:**\n",
    "\n",
    "- Primitive data types are basic data types provided by a programming language as a basic building block, such as `int`, `float`, `str`, `boolean`, etc.\n",
    "- Data structures are more complex data types that are derived from the primitive data types, such as `list`, `tuple`, `dict`, `set`, etc.\n",
    "\n",
    "**Python has many built-in data types. In this chapter, we will introduce a few primitive data types.**\n",
    "\n",
    "**`int` - Numeric Data Type**\n",
    "This type stores integers (whole numbers), such as `1`, `5`, `-20`, `1000`, ...\n",
    "\n",
    "**`float` - Numeric Data Type**\n",
    "This data type stores floating point numbers (real numbers), such as `1.5`, `-3.3`, `5000.0`, ...\n",
    "\n",
    "**`str` - Sequence Data Type**\n",
    "This data type stores a sequence of characters, such as `\"Hello World!\"`, `'Good Morning'`, ...\n",
    "\n",
    "**`boolean` - Boolean Data Type**\n",
    "This special data type stores one of the two truth values of logic, it can either take the value of `True` or `False`.\n"
   ]
  },
  {
   "cell_type": "markdown",
   "metadata": {},
   "source": [
    "### _3.2 Variable_\n",
    "\n",
    "Variables are containers for storing data values. Python has no command for declaring a variable. A variable is created the moment you first assign a value to it.\n",
    "\n",
    "Similar to Mathematics, `x = 1` declares a variable in python. Please take note that `=` does **NOT** implies \"equals to\", but we call it an **assignment** operator; which means to assign/store the value from the right hand side to the variable on the left hand side."
   ]
  },
  {
   "cell_type": "markdown",
   "metadata": {},
   "source": [
    "#### ~ Example ~\n",
    "\n",
    "Take a look at the following sample code. Predict the outcome before executing it."
   ]
  },
  {
   "cell_type": "code",
   "execution_count": null,
   "metadata": {},
   "outputs": [],
   "source": [
    "teacher_name = \"Mr Zhou\"\n",
    "student_name = \"Xiao Ming\"\n",
    "age = 16\n",
    "gpa = 4.0\n",
    "in_school = True\n",
    "\n",
    "print(\"Teacher Name:\", teacher_name)\n",
    "print(\"Student details:\", student_name, age, gpa, in_school)\n",
    "print() # this insert an empty line in the output display\n",
    "\n",
    "# type() is a useful function to check the data type of a variable when unsure.\n",
    "print(\"Type of teacher_name:\", type(teacher_name))\n",
    "print(\"Type of gpa:\", type(gpa))\n",
    "print(\"Type of in_school:\", type(in_school))"
   ]
  },
  {
   "cell_type": "markdown",
   "metadata": {},
   "source": [
    "#### - Exercise -\n",
    "\n",
    "Declare a variable with variable name as `my_phone_model` and bind it with a `string` describing the model of your mobile phone.\n",
    "Declare a variable with variable name as `my_age` and bind it with an `integer` using the value of your own age.\n",
    "\n",
    "Print out your variable values using the print() function."
   ]
  },
  {
   "cell_type": "code",
   "execution_count": 2,
   "metadata": {},
   "outputs": [
    {
     "name": "stdout",
     "output_type": "stream",
     "text": [
      "iPhone 12\n",
      "15\n"
     ]
    }
   ],
   "source": [
    "# your code for Exercise\n",
    "my_phone_model = \"iPhone 12\"\n",
    "my_age = 15\n",
    "\n",
    "print(my_phone_model)\n",
    "print(my_age)"
   ]
  },
  {
   "cell_type": "markdown",
   "metadata": {},
   "source": [
    "### _3.3 Typecasting_\n",
    "\n",
    "Sometimes, it is necessary to convert from one data type to another, this process is called typecasting."
   ]
  },
  {
   "cell_type": "markdown",
   "metadata": {},
   "source": [
    "#### ~ Example ~\n",
    "\n",
    "Refer to the sample code below to understand how to cast from one data type to another."
   ]
  },
  {
   "cell_type": "code",
   "execution_count": null,
   "metadata": {},
   "outputs": [],
   "source": [
    "a = 5\n",
    "b = str(a) # \"5\"\n",
    "c = float(b)\n",
    "\n",
    "print (a, type(a))\n",
    "print (b, type(b))\n",
    "print (c, type(c))"
   ]
  },
  {
   "cell_type": "markdown",
   "metadata": {},
   "source": [
    "#### - Exercise -\n",
    "\n",
    "Try to cast the value of `my_age` to `str` type and `my_phone_model` to `int` type. Do you encounter any problem? Why?"
   ]
  },
  {
   "cell_type": "code",
   "execution_count": 3,
   "metadata": {},
   "outputs": [
    {
     "name": "stdout",
     "output_type": "stream",
     "text": [
      "15\n"
     ]
    },
    {
     "ename": "ValueError",
     "evalue": "invalid literal for int() with base 10: 'iPhone 12'",
     "output_type": "error",
     "traceback": [
      "\u001b[1;31m---------------------------------------------------------------------------\u001b[0m",
      "\u001b[1;31mValueError\u001b[0m                                Traceback (most recent call last)",
      "Cell \u001b[1;32mIn[3], line 6\u001b[0m\n\u001b[0;32m      3\u001b[0m my_age \u001b[38;5;241m=\u001b[39m \u001b[38;5;241m15\u001b[39m\n\u001b[0;32m      5\u001b[0m \u001b[38;5;28mprint\u001b[39m(\u001b[38;5;28mstr\u001b[39m(my_age))\n\u001b[1;32m----> 6\u001b[0m \u001b[38;5;28mprint\u001b[39m(\u001b[38;5;28;43mint\u001b[39;49m\u001b[43m(\u001b[49m\u001b[43mmy_phone_model\u001b[49m\u001b[43m)\u001b[49m)  \u001b[38;5;66;03m# uncomment to see the error message\u001b[39;00m\n",
      "\u001b[1;31mValueError\u001b[0m: invalid literal for int() with base 10: 'iPhone 12'"
     ]
    }
   ],
   "source": [
    "# your code for Exercise\n",
    "my_phone_model = \"iPhone 12\"\n",
    "my_age = 15\n",
    "\n",
    "print(str(my_age))\n",
    "print(int(my_phone_model))  # uncomment to see the error message\n",
    "\n",
    "# error occurs because string with alphabets cannot be converted to integer directly"
   ]
  },
  {
   "cell_type": "markdown",
   "metadata": {},
   "source": [
    "## Section 4 - Operators\n",
    "\n",
    "Reference: [w3schools - Python Operators](https://www.w3schools.com/python/python_operators.asp)\n",
    "\n",
    "Operators are used to perform operations on variables and values. In this chapter, we will only explore some basic operators and their functions.\n",
    "- Arithmetic operators\n",
    "- Assignment operators\n",
    "- Comparison operators\n",
    "- Logical operators"
   ]
  },
  {
   "cell_type": "markdown",
   "metadata": {},
   "source": [
    "### _4.1 Arithmetic Operators_\n",
    "\n",
    "Arithmetic operators are used with numeric values to perform common mathematical operations.\n",
    "\n",
    "<table class=\"table table-bordered\">\n",
    "    <!-- Header Row -->\n",
    "    <tr>\n",
    "        <th style=\"width:10%; text-align:left\">Operator</th>\n",
    "        <th style=\"width:10%; text-align:left\">Operation</th>\n",
    "        <th style=\"width:10%; text-align:left\">Example</th>\n",
    "        <th style=\"width:20%; text-align:left\">Result</th>\n",
    "        <th style=\"text-align:left\">Description</th>\n",
    "    </tr>\n",
    "    <!-- + -->\n",
    "    <tr>\n",
    "        <td style=\"text-align:left\">+</td>\n",
    "        <td style=\"text-align:left\">Addition</td>\n",
    "        <td style=\"text-align:left\">23 + 3</td>\n",
    "        <td style=\"text-align:left\">26</td>\n",
    "        <td style=\"text-align:left\">Adds values of the two operands.</td>\n",
    "    </tr>\n",
    "    <!-- - -->\n",
    "    <tr>\n",
    "        <td style=\"text-align:left\">-</td>\n",
    "        <td style=\"text-align:left\">Subtraction</td>\n",
    "        <td style=\"text-align:left\">23 - 3</td>\n",
    "        <td style=\"text-align:left\">20</td>\n",
    "        <td style=\"text-align:left\">Subtract the value of the right operand from the value of the left operand.</td>\n",
    "    </tr>\n",
    "    <!-- * -->\n",
    "    <tr>\n",
    "        <td style=\"text-align:left\">*</td>\n",
    "        <td style=\"text-align:left\">Multiplication</td>\n",
    "        <td style=\"text-align:left\">23 * 3</td>\n",
    "        <td style=\"text-align:left\">69</td>\n",
    "        <td style=\"text-align:left\">Multiply values of the two operands</td>\n",
    "    </tr>\n",
    "    <!-- / -->\n",
    "    <tr>\n",
    "        <td style=\"text-align:left\">/</td>\n",
    "        <td style=\"text-align:left\">Division</td>\n",
    "        <td style=\"text-align:left\">23 / 3</td>\n",
    "        <td style=\"text-align:left\">7.666666666666667</td>\n",
    "        <td style=\"text-align:left\">Divide the value of the right operand from the value of the left operand.</td>\n",
    "    </tr>\n",
    "    <!-- // -->\n",
    "    <tr>\n",
    "        <td style=\"text-align:left\">//</td>\n",
    "        <td style=\"text-align:left\">Floor Division</td>\n",
    "        <td style=\"text-align:left\">23 // 3</td>\n",
    "        <td style=\"text-align:left\">7</td>\n",
    "        <td style=\"text-align:left\">Divide the value of the right operand from the value of the left operand, return the quotient value as an integer.</td>\n",
    "    </tr>\n",
    "    <!-- % -->\n",
    "    <tr>\n",
    "        <td style=\"text-align:left\">%</td>\n",
    "        <td style=\"text-align:left\">Modulus</td>\n",
    "        <td style=\"text-align:left\">23 % 3</td>\n",
    "        <td style=\"text-align:left\">2</td>\n",
    "        <td style=\"text-align:left\">Divide the value of the right operand from the value of the left operand, return the remainder value.</td>\n",
    "    </tr>\n",
    "    <!-- ** -->\n",
    "    <tr>\n",
    "        <td style=\"text-align:left\">**</td>\n",
    "        <td style=\"text-align:left\">Exponentiation</td>\n",
    "        <td style=\"text-align:left\">23 ** 3</td>\n",
    "        <td style=\"text-align:left\">12167</td>\n",
    "        <td style=\"text-align:left\">Raise the value of the left operand to the power of the value of the right operand.</td>\n",
    "    </tr>\n",
    "</table>"
   ]
  },
  {
   "cell_type": "markdown",
   "metadata": {},
   "source": [
    "#### ~ Example ~\n",
    "\n",
    "Take a look at the following sample code. Predict the outcome before executing it."
   ]
  },
  {
   "cell_type": "code",
   "execution_count": null,
   "metadata": {},
   "outputs": [],
   "source": [
    "a = 23\n",
    "b = 3\n",
    "# b = 3.0  # uncomment to test out with a float value\n",
    "\n",
    "print (a + b, type(a + b))\n",
    "print (a - b, type(a - b))\n",
    "print (a * b, type(a * b))\n",
    "print (a / b, type(a / b))\n",
    "print (a // b, type(a // b))\n",
    "print (a % b, type(a % b))\n",
    "print (a ** b, type(a ** b))"
   ]
  },
  {
   "cell_type": "markdown",
   "metadata": {},
   "source": [
    "**Operator Precedence**\n",
    "\n",
    "When more than one operator appears in an expression, the order of evaluation depends on the rules of precedence. Python follows the same precedence rules for its mathematical operators that mathematics does.\n",
    "\n",
    "1. `+` and `-` has the lowest level of precedence.\n",
    "2. `*`, `/`, `//`, `%` has a higher precedence than `+` and `-`.\n",
    "3. `**` has an even higher precedence\n",
    "4. Parentheses, `(` and `)` has the highest level of precedence.\n",
    "\n",
    "#### - Exercise -\n",
    "\n",
    "Take a look at the following sample code. Predict the outcome before executing it."
   ]
  },
  {
   "cell_type": "code",
   "execution_count": 4,
   "metadata": {},
   "outputs": [
    {
     "name": "stdout",
     "output_type": "stream",
     "text": [
      "30 <class 'int'>\n"
     ]
    }
   ],
   "source": [
    "a = 23\n",
    "b = 3\n",
    "\n",
    "c = a + a // b ** (4 - b)\n",
    "print(c, type(c))"
   ]
  },
  {
   "cell_type": "markdown",
   "metadata": {},
   "source": [
    "It is important to note that when we mix `int` and `float` values in an arithmetic expression, the result will be a value of `float` data type.\n",
    "\n",
    "#### - Exercise -\n",
    "\n",
    "Take a look at the following sample code. Predict the outcome before executing it."
   ]
  },
  {
   "cell_type": "code",
   "execution_count": 5,
   "metadata": {},
   "outputs": [
    {
     "name": "stdout",
     "output_type": "stream",
     "text": [
      "26.0 <class 'float'>\n",
      "7.0 <class 'float'>\n",
      "2.0 <class 'float'>\n",
      "12167.0 <class 'float'>\n"
     ]
    }
   ],
   "source": [
    "a = 23.0\n",
    "b = 3\n",
    "\n",
    "print(a + b, type(a + b))\n",
    "print (a // b, type(a // b))\n",
    "print (a % b, type(a % b))\n",
    "print (a ** b, type(a ** b))"
   ]
  },
  {
   "cell_type": "markdown",
   "metadata": {},
   "source": [
    "#### - Exercise -\n",
    "\n",
    "Find the remainder when:  \n",
    "11 is divided by 3  \n",
    "101 is divided by 3\n",
    "\n",
    "Find the remainder when:  \n",
    "2515 is divided by 5  \n",
    "3600 is divided by 5\n",
    "\n",
    "Find the quotient and remainder when:  \n",
    "23 is divided by 10  \n",
    "58 is divided by 10"
   ]
  },
  {
   "cell_type": "code",
   "execution_count": 6,
   "metadata": {},
   "outputs": [
    {
     "name": "stdout",
     "output_type": "stream",
     "text": [
      "2\n",
      "2\n",
      "0\n",
      "0\n",
      "2 3\n",
      "5 8\n",
      "2\n",
      "3\n"
     ]
    }
   ],
   "source": [
    "# your code for Exercise\n",
    "print(11 % 3)\n",
    "print(101 % 3)\n",
    "\n",
    "print(2515 % 5)\n",
    "print(3600 % 5)\n",
    "\n",
    "print(23 // 10, 23 % 10)\n",
    "print(58 // 10, 58 % 10)\n",
    "\n",
    "# what overservation can you draw from the following output?\n",
    "print(23 // 10)\n",
    "print(23 % 10)"
   ]
  },
  {
   "cell_type": "markdown",
   "metadata": {},
   "source": [
    "### _4.2 Assignment Operators_\n",
    "\n",
    "Assignment operators are used to assign values to variables. If arithmatic operator is present before the `=` operator, it means that the variable will perform the respective arithmatic operation to itself before reassigning the updated value to the variable.\n",
    "\n",
    "For example, if we know that `x` has a value of `3`.  \n",
    "`x += 5` is equivilant to `x = x + 5`.  \n",
    "So after this operation, x will has an updated value of `8`.\n",
    "\n",
    "<table class=\"table table-bordered\">\n",
    "    <!-- Header Row -->\n",
    "    <tr>\n",
    "        <th style=\"width:20%; text-align:left\">Operator</th>\n",
    "        <th style=\"width:20%; text-align:left\">Example</th>\n",
    "        <th style=\"text-align:left\">Equivilant Expression</th>\n",
    "    </tr>\n",
    "    <!-- = -->\n",
    "    <tr>\n",
    "        <td style=\"width:20%; text-align:left\">=</td>\n",
    "        <td style=\"width:20%; text-align:left\">x = 5</td>\n",
    "        <td style=\"text-align:left\">x = 5</td>\n",
    "    </tr>\n",
    "    <!-- += -->\n",
    "    <tr>\n",
    "        <td style=\"width:20%; text-align:left\">+=</td>\n",
    "        <td style=\"width:20%; text-align:left\">x += 5</td>\n",
    "        <td style=\"text-align:left\">x = x + 5</td>\n",
    "    </tr>\n",
    "    <!-- -= -->\n",
    "    <tr>\n",
    "        <td style=\"width:20%; text-align:left\">-=</td>\n",
    "        <td style=\"width:20%; text-align:left\">x -= 5</td>\n",
    "        <td style=\"text-align:left\">x = x - 5</td>\n",
    "    </tr>\n",
    "    <!-- *= -->\n",
    "    <tr>\n",
    "        <td style=\"width:20%; text-align:left\">*=</td>\n",
    "        <td style=\"width:20%; text-align:left\">x *= 5</td>\n",
    "        <td style=\"text-align:left\">x = x * 5</td>\n",
    "    </tr>\n",
    "    <!-- /= -->\n",
    "    <tr>\n",
    "        <td style=\"width:20%; text-align:left\">/=</td>\n",
    "        <td style=\"width:20%; text-align:left\">x /= 5</td>\n",
    "        <td style=\"text-align:left\">x = x / 5</td>\n",
    "    </tr>\n",
    "    <!-- //= -->\n",
    "    <tr>\n",
    "        <td style=\"width:20%; text-align:left\">//=</td>\n",
    "        <td style=\"width:20%; text-align:left\">x //= 5</td>\n",
    "        <td style=\"text-align:left\">x = x // 5</td>\n",
    "    </tr>\n",
    "    <!-- %= -->\n",
    "    <tr>\n",
    "        <td style=\"width:20%; text-align:left\">%=</td>\n",
    "        <td style=\"width:20%; text-align:left\">x %= 5</td>\n",
    "        <td style=\"text-align:left\">x = x % 5</td>\n",
    "    </tr>\n",
    "    <!-- **= -->\n",
    "    <tr>\n",
    "        <td style=\"width:20%; text-align:left\">**=</td>\n",
    "        <td style=\"width:20%; text-align:left\">x **= 5</td>\n",
    "        <td style=\"text-align:left\">x = x ** 5</td>\n",
    "    </tr>\n",
    "</table>"
   ]
  },
  {
   "cell_type": "markdown",
   "metadata": {},
   "source": [
    "#### ~ Example ~\n",
    "\n",
    "Take a look at the following sample code. Predict the outcome before executing it."
   ]
  },
  {
   "cell_type": "code",
   "execution_count": null,
   "metadata": {},
   "outputs": [],
   "source": [
    "x = 3\n",
    "x += 5\n",
    "print(x, type(x))\n",
    "x /= 5\n",
    "print(x, type(x))\n",
    "x *= 5\n",
    "print(x, type(x))\n",
    "x = x // 5\n",
    "print(x, type(x))"
   ]
  },
  {
   "cell_type": "markdown",
   "metadata": {},
   "source": [
    "We can concurrently assign multiple values separated by `,`.\n",
    "\n",
    "#### ~ Example ~"
   ]
  },
  {
   "cell_type": "code",
   "execution_count": null,
   "metadata": {},
   "outputs": [],
   "source": [
    "a = 3\n",
    "b = 4\n",
    "print(\"before swap:\", a, b)\n",
    "\n",
    "# for other languages\n",
    "# swap values of a and b\n",
    "temp = a\n",
    "a = b\n",
    "b = temp\n",
    "print(\"after swap:\", a, b)\n"
   ]
  },
  {
   "cell_type": "code",
   "execution_count": null,
   "metadata": {},
   "outputs": [],
   "source": [
    "a, b = 3, 4\n",
    "print(\"before swap:\", a, b)\n",
    "\n",
    "# swap values of a and b using concurrent assignment\n",
    "a, b = b, a\n",
    "print(\"after swap:\", a, b)"
   ]
  },
  {
   "cell_type": "markdown",
   "metadata": {},
   "source": [
    "### _4.3 Relational Operators_\n",
    "\n",
    "Relational operators are used to compare two values. The result will be a `boolean` value, either `True` or `False`.\n",
    "\n",
    "In the following examples, `x` takes value of `5`.\n",
    "\n",
    "<table class=\"table table-bordered\">\n",
    "    <!-- Header Row -->\n",
    "    <tr>\n",
    "        <th style=\"width:20%; text-align:left\">Operator</th>\n",
    "        <th style=\"width:20%; text-align:left\">Operation</th>\n",
    "        <th style=\"width:20%; text-align:left\">Example</th>\n",
    "        <th style=\"text-align:left\">Result</th>\n",
    "    </tr>\n",
    "    <!-- == -->\n",
    "    <tr>\n",
    "        <td style=\"width:20%; text-align:left\">==</td>\n",
    "        <td style=\"width:20%; text-align:left\">Equal to</td>\n",
    "        <td style=\"width:20%; text-align:left\">x == 4</td>\n",
    "        <td style=\"text-align:left\">False</td>\n",
    "    </tr>\n",
    "    <!-- != -->\n",
    "    <tr>\n",
    "        <td style=\"width:20%; text-align:left\">!=</td>\n",
    "        <td style=\"width:20%; text-align:left\">Not equal to</td>\n",
    "        <td style=\"width:20%; text-align:left\">x != 4</td>\n",
    "        <td style=\"text-align:left\">True</td>\n",
    "    </tr>\n",
    "    <!-- > -->\n",
    "    <tr>\n",
    "        <td style=\"width:20%; text-align:left\">></td>\n",
    "        <td style=\"width:20%; text-align:left\">Greater than</td>\n",
    "        <td style=\"width:20%; text-align:left\">x > 4</td>\n",
    "        <td style=\"text-align:left\">True</td>\n",
    "    </tr>\n",
    "    <!-- < -->\n",
    "    <tr>\n",
    "        <td style=\"width:20%; text-align:left\"><</td>\n",
    "        <td style=\"width:20%; text-align:left\">Less than</td>\n",
    "        <td style=\"width:20%; text-align:left\">x < 4</td>\n",
    "        <td style=\"text-align:left\">False</td>\n",
    "    </tr>\n",
    "    <!-- >= -->\n",
    "    <tr>\n",
    "        <td style=\"width:20%; text-align:left\">>=</td>\n",
    "        <td style=\"width:20%; text-align:left\">\tGreater than or equal to</td>\n",
    "        <td style=\"width:20%; text-align:left\">x >= 4</td>\n",
    "        <td style=\"text-align:left\">True</td>\n",
    "    </tr>\n",
    "    <!-- <= -->\n",
    "    <tr>\n",
    "        <td style=\"width:20%; text-align:left\"><=</td>\n",
    "        <td style=\"width:20%; text-align:left\">Less than or equal to</td>\n",
    "        <td style=\"width:20%; text-align:left\">x <= 4</td>\n",
    "        <td style=\"text-align:left\">False</td>\n",
    "    </tr>\n",
    "</table>"
   ]
  },
  {
   "cell_type": "markdown",
   "metadata": {},
   "source": [
    "### _4.4 Logical Operators_\n",
    "\n",
    "Logical operators are used to combine conditional statements. We will explore and learn a bit more about truth table in a later chapter.\n",
    "\n",
    "In the following examples, `x` takes value of `5`.\n",
    "\n",
    "<table class=\"table table-bordered\">\n",
    "    <!-- Header Row -->\n",
    "    <tr>\n",
    "        <th style=\"width:20%; text-align:left\">Operator</th>\n",
    "        <th style=\"width:20%; text-align:left\">Description</th>\n",
    "        <th style=\"width:20%; text-align:left\">Example</th>\n",
    "        <th style=\"text-align:left\">Result</th>\n",
    "    </tr>\n",
    "    <!-- and -->\n",
    "    <tr>\n",
    "        <td style=\"width:20%; text-align:left\">and</td>\n",
    "        <td style=\"width:20%; text-align:left\">Returns True only if both statements are true.</td>\n",
    "        <td style=\"width:20%; text-align:left\">x > 3 and x % 3 == 2</td>\n",
    "        <td style=\"text-align:left\">True</td>\n",
    "    </tr>\n",
    "    <!-- or -->\n",
    "    <tr>\n",
    "        <td style=\"width:20%; text-align:left\">or</td>\n",
    "        <td style=\"width:20%; text-align:left\">Returns True as long as either one of the states is true.</td>\n",
    "        <td style=\"width:20%; text-align:left\">x > 3 or x // 4 == 2</td>\n",
    "        <td style=\"text-align:left\">True</td>\n",
    "    </tr>\n",
    "    <!-- not -->\n",
    "    <tr>\n",
    "        <td style=\"width:20%; text-align:left\">not</td>\n",
    "        <td style=\"width:20%; text-align:left\">Reverse the conditional value.</td>\n",
    "        <td style=\"width:20%; text-align:left\">not(x > 3)</td>\n",
    "        <td style=\"text-align:left\">False</td>\n",
    "    </tr>\n",
    "</table>"
   ]
  },
  {
   "cell_type": "markdown",
   "metadata": {},
   "source": [
    "#### ~ Example ~\n",
    "\n",
    "Take a look at the following sample code. Predict the outcome before executing it."
   ]
  },
  {
   "cell_type": "code",
   "execution_count": null,
   "metadata": {},
   "outputs": [],
   "source": [
    "x = 5\n",
    "print(x > 3 and x % 3 == 2)\n",
    "print(x > 3 or x // 4 == 2)\n",
    "print(not(x > 3))"
   ]
  },
  {
   "cell_type": "markdown",
   "metadata": {},
   "source": [
    "## Section 5 - Conclusion\n",
    "\n",
    "In this chapter, we have learnt about data types, variables and operators in Python. It is important to understand the details of how these elements interact/work with each other, just like learning grammar of a new language. So please feel free to explore and test out for yourself any possible combinations, and ask questions when in doubt.\n",
    "\n",
    "Happy Coding!"
   ]
  },
  {
   "cell_type": "markdown",
   "metadata": {},
   "source": [
    "### 5.1 Questions for self-exploration:"
   ]
  },
  {
   "cell_type": "markdown",
   "metadata": {},
   "source": [
    "1. What is the advantage of allowing both single and double quotation marks to represent `str` data type?"
   ]
  },
  {
   "cell_type": "code",
   "execution_count": null,
   "metadata": {},
   "outputs": [],
   "source": [
    "# type your answer as comments below\n",
    "# you can write strings with quotes inside like \"She said, 'Hello!'\" or 'She said, \"Hello!\"'"
   ]
  },
  {
   "cell_type": "markdown",
   "metadata": {},
   "source": [
    "2. How to print a string containing both `\"` and `'` as part of the content?"
   ]
  },
  {
   "cell_type": "code",
   "execution_count": 10,
   "metadata": {},
   "outputs": [
    {
     "name": "stdout",
     "output_type": "stream",
     "text": [
      "\"'\n",
      "\"'\n"
     ]
    }
   ],
   "source": [
    "# your code for Exercise\n",
    "print(\"\"\"\"'\"\"\")\n",
    "print(\"\\\"'\")"
   ]
  },
  {
   "cell_type": "markdown",
   "metadata": {},
   "source": [
    "3. In Jupyter notebook, what's the difference between the following 2 cells? How about running the same code in IDLE editor?"
   ]
  },
  {
   "cell_type": "code",
   "execution_count": 8,
   "metadata": {},
   "outputs": [
    {
     "data": {
      "text/plain": [
       "5"
      ]
     },
     "execution_count": 8,
     "metadata": {},
     "output_type": "execute_result"
    }
   ],
   "source": [
    "# Compare the result of these two cells.\n",
    "x = 5\n",
    "x"
   ]
  },
  {
   "cell_type": "code",
   "execution_count": 9,
   "metadata": {},
   "outputs": [
    {
     "name": "stdout",
     "output_type": "stream",
     "text": [
      "5\n"
     ]
    }
   ],
   "source": [
    "# Compare the result of these two cells.\n",
    "x = 5\n",
    "print(x)"
   ]
  },
  {
   "cell_type": "code",
   "execution_count": null,
   "metadata": {},
   "outputs": [],
   "source": [
    "# jupyter just returns the value of the last line of code in a cell, this wont work in idle"
   ]
  },
  {
   "cell_type": "markdown",
   "metadata": {},
   "source": [
    "### 5.2 References\n",
    "\n",
    "1. [Wekipedia](https://en.wikipedia.org)\n",
    "2. [PEP 8 -- Style Guide for Python Code](https://www.python.org/dev/peps/pep-0008/)\n",
    "3. [w3schools - Python Operators](https://www.w3schools.com/python/python_operators.asp)"
   ]
  }
 ],
 "metadata": {
  "kernelspec": {
   "display_name": "Python 3",
   "language": "python",
   "name": "python3"
  },
  "language_info": {
   "codemirror_mode": {
    "name": "ipython",
    "version": 3
   },
   "file_extension": ".py",
   "mimetype": "text/x-python",
   "name": "python",
   "nbconvert_exporter": "python",
   "pygments_lexer": "ipython3",
   "version": "3.12.6"
  }
 },
 "nbformat": 4,
 "nbformat_minor": 2
}
