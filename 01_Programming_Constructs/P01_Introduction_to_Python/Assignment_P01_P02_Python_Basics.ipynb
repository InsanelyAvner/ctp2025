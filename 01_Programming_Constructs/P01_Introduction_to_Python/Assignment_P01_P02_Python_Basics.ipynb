{
 "cells": [
  {
   "cell_type": "markdown",
   "metadata": {},
   "source": [
    "# Assignment - [P01_P02] Python Basics"
   ]
  },
  {
   "cell_type": "markdown",
   "metadata": {},
   "source": [
    "### Question 1\n",
    "\n",
    "Use of '=' and operators\n",
    "\n",
    "Given that variable `a`, `b`, `c`, `d` and `e` are bounded to values of 4, 8, 13, 17 and 48 respectively. \n",
    "\n",
    "**Without using any direct assignment of integer values to variables or introducing new variables**, bound the variables of `a`, `b`, `c`, `d` and `e` to new values of 13, 5, 4, 100 and 1/3 respectively."
   ]
  },
  {
   "cell_type": "code",
   "execution_count": 1,
   "metadata": {},
   "outputs": [
    {
     "name": "stdout",
     "output_type": "stream",
     "text": [
      "13 5 4 100 0.3333333333333333\n"
     ]
    }
   ],
   "source": [
    "a = 4\n",
    "b = 8\n",
    "c = 13\n",
    "d = 17\n",
    "e = 48\n",
    "# Do not edit the code above\n",
    "# Write your code below this line\n",
    "\n",
    "a, b, c, d, e = c, c - b, a, e * 2 + a, a / (a + b)\n",
    "\n",
    "print(a, b, c, d, e)"
   ]
  },
  {
   "cell_type": "markdown",
   "metadata": {},
   "source": [
    "### Question 2\n",
    "What is the value of the variable `result` if the following code is executed? Explain your answer."
   ]
  },
  {
   "cell_type": "code",
   "execution_count": 3,
   "metadata": {},
   "outputs": [
    {
     "data": {
      "text/plain": [
       "54.0"
      ]
     },
     "execution_count": 3,
     "metadata": {},
     "output_type": "execute_result"
    }
   ],
   "source": [
    "x, y, z, result = 10, 12, 15, 0\n",
    "result = x + y + z / 3\n",
    "x, y = y, z\n",
    "z = result\n",
    "result = x + y + z\n",
    "\n",
    "result"
   ]
  },
  {
   "cell_type": "markdown",
   "metadata": {},
   "source": [
    "\n",
    "#### Explanation:\n",
    "\n",
    "Initially,\n",
    "x = 10, y = 12, z = 15, result = 0\n",
    "\n",
    "After the first calculation:\n",
    "result = x + y + z / 3\n",
    "z / 3 = 15 / 3 = 5\n",
    "result = 10 + 12 + 5 = 27\n",
    "\n",
    "Swapping x and y:\n",
    "x, y = y, z\n",
    "Now, x = 12, y = 15\n",
    "\n",
    "Updating z:\n",
    "z = result\n",
    "Now, z = 27\n",
    "\n",
    "Final calculation:\n",
    "result = x + y + z\n",
    "result = 12 + 15 + 27 = 54\n",
    "\n",
    "Therefore, the final result is 54.0"
   ]
  },
  {
   "cell_type": "markdown",
   "metadata": {},
   "source": [
    "### Question 3\n",
    "Without executing the code, evaluate the following expressions."
   ]
  },
  {
   "cell_type": "code",
   "execution_count": null,
   "metadata": {},
   "outputs": [],
   "source": [
    "# x + y / z\n",
    "# your answer = 1.0\n",
    "# x ** y % x\n",
    "# your answer = 0\n",
    "# y <= z\n",
    "# your answer = False\n",
    "# x > y * z\n",
    "# your answer = True\n",
    "# (x < y) * z\n",
    "# your answer = -2\n",
    "# x - y + x - y  == z\n",
    "# your answer = True\n",
    "# x + z != z + y\n",
    "# your answer = True\n",
    "# y / 0\n",
    "# your answer = ZeroDivisionError\n",
    "# x / y + z\n",
    "# your answer = -1.25\n",
    "# y / x % z\n",
    "# your answer = -0.6666666666666667\n",
    "# y % x / z\n",
    "# your answer = -0.5\n",
    "# x // 0\n",
    "# your answer = ZeroDivisionError\n",
    "# x // y\n",
    "# your answer = 0\n",
    "# y // x\n",
    "# your answer = 1"
   ]
  }
 ],
 "metadata": {
  "kernelspec": {
   "display_name": "Python 3",
   "language": "python",
   "name": "python3"
  },
  "language_info": {
   "codemirror_mode": {
    "name": "ipython",
    "version": 3
   },
   "file_extension": ".py",
   "mimetype": "text/x-python",
   "name": "python",
   "nbconvert_exporter": "python",
   "pygments_lexer": "ipython3",
   "version": "3.12.6"
  }
 },
 "nbformat": 4,
 "nbformat_minor": 2
}
