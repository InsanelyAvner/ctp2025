{
 "cells": [
  {
   "cell_type": "markdown",
   "metadata": {},
   "source": [
    "# P06 Iteration 2"
   ]
  },
  {
   "cell_type": "code",
   "execution_count": null,
   "metadata": {},
   "outputs": [],
   "source": [
    "def fooDNA(s1: str, s2: str) -> bool:\n",
    "    valid_pairs = {\"A\": \"T\", \"T\": \"A\", \"G\": \"C\", \"C\": \"G\"}\n",
    "    return all(valid_pairs[b1] == b2 for b1, b2 in zip(s1, s2))"
   ]
  },
  {
   "cell_type": "code",
   "execution_count": null,
   "metadata": {},
   "outputs": [],
   "source": [
    "def fooSPR(P1, P2):\n",
    "    outcomes = {'RS': 1, 'SP': 1, 'PR': 1, 'SR': -1, 'PS': -1, 'RP': -1}\n",
    "    score = sum(outcomes.get(p1 + p2, 0) for p1, p2 in zip(P1, P2))\n",
    "    return 'Player 1' if score > 0 else 'Player 2' if score < 0 else 'Draw'\n"
   ]
  },
  {
   "cell_type": "code",
   "execution_count": null,
   "metadata": {},
   "outputs": [],
   "source": [
    "def fooSum2digits(s):\n",
    "    return all(int(s[i]) == (int(s[i-2]) + int(s[i-1])) % 10 for i in range(2, len(s)))\n"
   ]
  },
  {
   "cell_type": "code",
   "execution_count": null,
   "metadata": {},
   "outputs": [],
   "source": [
    "def encrypt(s):\n",
    "    return ''.join(chr((ord(c) - 65 + 3) % 26 + 65) for c in s)\n"
   ]
  },
  {
   "cell_type": "code",
   "execution_count": null,
   "metadata": {},
   "outputs": [],
   "source": [
    "def decrypt(s):\n",
    "    return ''.join(chr((ord(c) - 65 - 3) % 26 + 65) for c in s)\n"
   ]
  },
  {
   "cell_type": "code",
   "execution_count": null,
   "metadata": {},
   "outputs": [],
   "source": [
    "def bin_to_dec(s):\n",
    "    dec = 0\n",
    "    for c in s:\n",
    "        dec = dec * 2 + int(c)\n",
    "    return dec\n"
   ]
  },
  {
   "cell_type": "code",
   "execution_count": null,
   "metadata": {},
   "outputs": [],
   "source": [
    "def foo15(s):\n",
    "    n = len(s)\n",
    "    for i in range(n):\n",
    "        total = 0\n",
    "        j = i\n",
    "        while j < n and total < 15:\n",
    "            total += int(s[j])\n",
    "            if total == 15:\n",
    "                return True\n",
    "            j += 1\n",
    "    return False\n"
   ]
  },
  {
   "cell_type": "code",
   "execution_count": null,
   "metadata": {},
   "outputs": [],
   "source": [
    "def is_saw_teeth(s):\n",
    "    n = len(s)\n",
    "    increasing = all(int(s[i]) > int(s[i+1]) if i % 2 == 0 else int(s[i]) < int(s[i+1]) for i in range(n-1))\n",
    "    decreasing = all(int(s[i]) < int(s[i+1]) if i % 2 == 0 else int(s[i]) > int(s[i+1]) for i in range(n-1))\n",
    "    return increasing or decreasing\n"
   ]
  }
 ],
 "metadata": {
  "kernelspec": {
   "display_name": "Python 3",
   "language": "python",
   "name": "python3"
  },
  "language_info": {
   "name": "python",
   "version": "3.13.1"
  }
 },
 "nbformat": 4,
 "nbformat_minor": 2
}
