{
 "cells": [
  {
   "cell_type": "code",
   "execution_count": null,
   "metadata": {},
   "outputs": [],
   "source": [
    "def insert_space(s):\n",
    "    return ' '.join(s)"
   ]
  },
  {
   "cell_type": "code",
   "execution_count": null,
   "metadata": {},
   "outputs": [],
   "source": [
    "test1 = \"\"\"\n",
    "HCHCHCHCHCHCH\n",
    "H H e l l o C\n",
    "HCHCHCHCHCHCH\n",
    "\"\"\"[1:-1]\n",
    "\n",
    "test2 = \"\"\"\n",
    "HCHCHCHCHCHCHCH\n",
    "H P y t h o n C\n",
    "HCHCHCHCHCHCHCH\n",
    "\"\"\"[1:-1]\n",
    "\n",
    "test3 = \"\"\"\n",
    "HCHCHCHCHCHCHCHCHCHCH\n",
    "H S i n g a p o r e C\n",
    "HCHCHCHCHCHCHCHCHCHCH\n",
    "\"\"\"[1:-1]\n",
    "\n",
    "# please do not change the code above.\n",
    "def surround_by_hc(s):\n",
    "    border = \"HC\" * (len(s) + 1) + \"H\"\n",
    "    middle = \"H \" + \" \".join(s) + \" C\"\n",
    "    return \"\\n\".join([border, middle, border])"
   ]
  },
  {
   "cell_type": "code",
   "execution_count": null,
   "metadata": {},
   "outputs": [],
   "source": [
    "test1 = \"\"\"\n",
    "    H    \n",
    "   H e   \n",
    "  H e l  \n",
    " H e l l \n",
    "H e l l o\n",
    "\"\"\"[1:-1]\n",
    "\n",
    "# please do not change the code above.\n",
    "def string_pyramid(s):\n",
    "    n = len(s)\n",
    "    width = 2 * n - 1\n",
    "    rows = [(\" \".join(s[:i])).center(width) for i in range(1, n+1)]\n",
    "    return \"\\n\".join(rows)"
   ]
  },
  {
   "cell_type": "code",
   "execution_count": null,
   "metadata": {},
   "outputs": [],
   "source": [
    "def factorial(n):\n",
    "    result = 1\n",
    "    for i in range(2, n + 1):\n",
    "        result *= i\n",
    "    return result"
   ]
  },
  {
   "cell_type": "code",
   "execution_count": null,
   "metadata": {},
   "outputs": [],
   "source": [
    "def pascal_triangle(n):\n",
    "    if n <= 0:\n",
    "        return \"\"\n",
    "    result = []\n",
    "    row = [1]\n",
    "    for i in range(n):\n",
    "        spaces = \" \" * (n - i - 1)\n",
    "        result.append(spaces + \" \".join(map(str, row)) + spaces)\n",
    "        row = [1] + [row[j] + row[j+1] for j in range(len(row)-1)] + [1]\n",
    "    return \"\\n\".join(result)\n"
   ]
  }
 ],
 "metadata": {
  "kernelspec": {
   "display_name": "venv",
   "language": "python",
   "name": "python3"
  },
  "language_info": {
   "name": "python",
   "version": "3.13.1"
  }
 },
 "nbformat": 4,
 "nbformat_minor": 2
}
