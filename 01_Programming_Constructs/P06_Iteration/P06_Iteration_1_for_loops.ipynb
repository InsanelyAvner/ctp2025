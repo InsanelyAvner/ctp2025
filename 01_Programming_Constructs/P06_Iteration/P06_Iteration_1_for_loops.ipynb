{
 "cells": [
  {
   "cell_type": "markdown",
   "metadata": {},
   "source": [
    "# Assignment - [P06] Iteration 1: for loops"
   ]
  },
  {
   "cell_type": "code",
   "execution_count": null,
   "metadata": {},
   "outputs": [],
   "source": [
    "def sum_digits(x):\n",
    "    res = 0\n",
    "    for i in str(x):\n",
    "        res += int(i)\n",
    "    \n",
    "    return res\n"
   ]
  },
  {
   "cell_type": "code",
   "execution_count": null,
   "metadata": {},
   "outputs": [],
   "source": [
    "def sum_odd_digits(x):\n",
    "    res = 0\n",
    "    for i in str(x):\n",
    "        if int(i) % 2 != 0:\n",
    "            res += int(i)\n",
    "    \n",
    "    return res"
   ]
  },
  {
   "cell_type": "code",
   "execution_count": null,
   "metadata": {},
   "outputs": [],
   "source": [
    "def change_case(s):\n",
    "    res = \"\"\n",
    "    for i in s:\n",
    "        res += i.swapcase()\n",
    "    \n",
    "    return res\n"
   ]
  },
  {
   "cell_type": "code",
   "execution_count": null,
   "metadata": {},
   "outputs": [],
   "source": [
    "def remove_vowels(s):\n",
    "    return \"\".join([i for i in s if i.lower() not in \"aeiou\"])\n"
   ]
  },
  {
   "cell_type": "code",
   "execution_count": null,
   "metadata": {},
   "outputs": [],
   "source": [
    "def foo1(s):\n",
    "    return s[::-1] if any(i.isdigit() for i in s) else \"\".join([i for i in s if i.lower() not in \"aeiou\"])"
   ]
  },
  {
   "cell_type": "code",
   "execution_count": null,
   "metadata": {},
   "outputs": [],
   "source": [
    "def foo2(s1, s2):\n",
    "    n = min(len(s1), len(s2))\n",
    "    combined = \"\".join(char for pair in zip(s1, s2) for char in pair)\n",
    "    return combined + s1[n:] + s2[n:]"
   ]
  }
 ],
 "metadata": {
  "kernelspec": {
   "display_name": "Python 3",
   "language": "python",
   "name": "python3"
  },
  "language_info": {
   "name": "python",
   "version": "3.undefined.undefined"
  }
 },
 "nbformat": 4,
 "nbformat_minor": 2
}
