{
 "cells": [
  {
   "cell_type": "code",
   "execution_count": null,
   "metadata": {},
   "outputs": [],
   "source": [
    "def sum_digits(x):\n",
    "    s = 0\n",
    "    while x: s, x = s + x % 10, x // 10\n",
    "    return s"
   ]
  },
  {
   "cell_type": "code",
   "execution_count": null,
   "metadata": {},
   "outputs": [],
   "source": [
    "def sum_odd_digits(x):\n",
    "    s = 0\n",
    "    while x: s, x = s + (x % 10 if x % 10 % 2 else 0), x // 10\n",
    "    return s"
   ]
  },
  {
   "cell_type": "code",
   "execution_count": null,
   "metadata": {},
   "outputs": [],
   "source": [
    "def find_next_square(x):\n",
    "    r = int(x**0.5)\n",
    "    while r**2 != x: return (r + 1)**2 if x >= 0 else -1\n",
    "    return (r + 1)**2"
   ]
  },
  {
   "cell_type": "code",
   "execution_count": null,
   "metadata": {},
   "outputs": [],
   "source": [
    "def change_case(s):\n",
    "    i, r = 0, []\n",
    "    while i < len(s): r.append(chr(ord(s[i]) ^ 32) if s[i].isalpha() else s[i]); i += 1\n",
    "    return ''.join(r)"
   ]
  },
  {
   "cell_type": "code",
   "execution_count": null,
   "metadata": {},
   "outputs": [],
   "source": [
    "def remove_vowels(s):\n",
    "    i, r = 0, []\n",
    "    while i < len(s): r.append(s[i]) if s[i] not in 'aeiouAEIOU' else None; i += 1\n",
    "    return ''.join(r)"
   ]
  },
  {
   "cell_type": "code",
   "execution_count": null,
   "metadata": {},
   "outputs": [],
   "source": [
    "def foo1(s):\n",
    "    i = 0\n",
    "    while i < len(s):\n",
    "        if s[i].isdigit(): return s[::-1]\n",
    "        i += 1\n",
    "    return ''.join(c for c in s if c not in 'aeiouAEIOU')"
   ]
  },
  {
   "cell_type": "code",
   "execution_count": null,
   "metadata": {},
   "outputs": [],
   "source": [
    "def foo2(s1, s2):\n",
    "    i, r = 0, ''\n",
    "    while i < len(s1) or i < len(s2):\n",
    "        if i < len(s1): r += s1[i]\n",
    "        if i < len(s2): r += s2[i]\n",
    "        i += 1\n",
    "    return r"
   ]
  },
  {
   "cell_type": "code",
   "execution_count": null,
   "metadata": {},
   "outputs": [],
   "source": [
    "def get_nth_digit(k, n):\n",
    "    k, i = str(k), 0\n",
    "    while i < n - 1: k = k[:-1]; i += 1\n",
    "    return int(k[-1])"
   ]
  }
 ],
 "metadata": {
  "kernelspec": {
   "display_name": "venv",
   "language": "python",
   "name": "python3"
  },
  "language_info": {
   "name": "python",
   "version": "3.13.1"
  }
 },
 "nbformat": 4,
 "nbformat_minor": 2
}
