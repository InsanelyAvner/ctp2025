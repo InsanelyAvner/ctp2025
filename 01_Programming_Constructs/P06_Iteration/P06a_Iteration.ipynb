{
 "cells": [
  {
   "cell_type": "markdown",
   "metadata": {},
   "source": [
    "# P06 - Iteration\n",
    "\n",
    "## Syllabus\n",
    "2.2.3   Apply the fundamental programming constructs to control the flow of program execution:  \n",
    "- Sequence  \n",
    "- Selection  \n",
    "- Iteration  \n",
    "\n",
    "2.2.6\tTrace the steps and list the results of recursive and non-recursive programs.\n",
    "\n",
    "## Understanding Goals\n",
    "\n",
    "At the end of this chapter, you should be able to:\n",
    "- Understand the execution of `while` loops\n",
    "- Design `while` loops with repetition and terminating conditions\n",
    "- Use `break` and `continue` to manipulate loops  \n",
    "- Understand and apply `for` loops to iterate using items\n",
    "- Understand and apply `for` loops to iterate using indexes\n",
    "- Understand the limitation of `for` loops"
   ]
  },
  {
   "cell_type": "markdown",
   "metadata": {},
   "source": [
    "## Section 1 - `while` loop\n",
    "\n",
    "### _1.1 Syntax of `while` loop_\n",
    "\n",
    "Loop is one of the most important programming constructs which enables us to repeatedly perform a set of determined action on a set of data.\n",
    "\n",
    "We shall start to learn and understand how `while` loops operate first. Here is a basic syntax of a `while` loop.\n",
    "\n",
    "```python\n",
    "while conditional_expression:\n",
    "    perform_certain_actions\n",
    "```\n",
    "\n",
    "When the loop is executed, the `conditional_expression` will be evaluated, if it is `True`, the program will run for one iteration before evaluating the `conditional_expression` again.\n",
    "\n",
    "The loop will be repeated until `conditional_expression` is evaluated to be `False`, then it will stop.\n",
    "\n",
    "#### ~ Example ~\n"
   ]
  },
  {
   "cell_type": "code",
   "execution_count": null,
   "metadata": {},
   "outputs": [],
   "source": [
    "x = 0\n",
    "\n",
    "while x < 3:\n",
    "    print(x)\n",
    "    x += 1"
   ]
  },
  {
   "cell_type": "markdown",
   "metadata": {},
   "source": [
    "### _1.2 Terminating Condition_\n",
    "\n",
    "It is important to note that there should always be a terminating condition for the loops, otherwise it will continue infinitely.\n",
    "\n",
    "Whenever we create a while loop, keep it as a good habit to implement its terminating condition first.\n",
    "\n",
    "**In Jupyter Notebook**  \n",
    "We can terminate a running cell by selecting \"Kernel->Restart & Clear Output\".\n",
    "\n",
    "**In IDLE or other python editors**\n",
    "We can terminate a running program by pressing \"Ctrl+C\" or by selecting \"Shell->Interrupt Execution\"."
   ]
  },
  {
   "cell_type": "code",
   "execution_count": null,
   "metadata": {},
   "outputs": [],
   "source": [
    "x = 0\n",
    "\n",
    "while x < 3:\n",
    "    print(x)\n",
    "    x += 1  # this line ensures that x is always increasing and will eventually reach the terminating condition"
   ]
  },
  {
   "cell_type": "markdown",
   "metadata": {},
   "source": [
    "### _1.3 Solving Problems using `while` loop_\n",
    "\n",
    "#### - Exercise -\n",
    "\n",
    "Calculate the sum of integers from 1 to 100.\n"
   ]
  },
  {
   "cell_type": "code",
   "execution_count": 1,
   "metadata": {},
   "outputs": [
    {
     "name": "stdout",
     "output_type": "stream",
     "text": [
      "5050\n"
     ]
    }
   ],
   "source": [
    "# Insert your solution here\n",
    "sum = 0\n",
    "i = 1\n",
    "\n",
    "while i <= 100:\n",
    "    sum += i\n",
    "    i += 1\n",
    "\n",
    "print(sum)"
   ]
  },
  {
   "cell_type": "markdown",
   "metadata": {},
   "source": [
    "#### - Exercise -\n",
    "\n",
    "Calculate the sum of square of integers from 1 to 100."
   ]
  },
  {
   "cell_type": "code",
   "execution_count": 1,
   "metadata": {},
   "outputs": [
    {
     "name": "stdout",
     "output_type": "stream",
     "text": [
      "338350\n"
     ]
    }
   ],
   "source": [
    "# Insert your solution here\n",
    "sum_of_square = 0\n",
    "i = 1\n",
    "\n",
    "while i <= 100:\n",
    "    sum_of_square += i**2\n",
    "    i += 1\n",
    "\n",
    "print(sum_of_square)"
   ]
  },
  {
   "cell_type": "markdown",
   "metadata": {},
   "source": [
    "#### - Exercise -\n",
    "\n",
    "**Without** using string slicing operations, create a new string in the reverse order using `while` loop."
   ]
  },
  {
   "cell_type": "code",
   "execution_count": 3,
   "metadata": {},
   "outputs": [
    {
     "name": "stdout",
     "output_type": "stream",
     "text": [
      "!dlroW olleH\n"
     ]
    }
   ],
   "source": [
    "string = \"Hello World!\"\n",
    "new_string = \"\"\n",
    "\n",
    "i=0\n",
    "\n",
    "while i<len(string):\n",
    "    new_string += string[-(i+1)]\n",
    "    i += 1\n",
    "\n",
    "print(new_string)"
   ]
  },
  {
   "cell_type": "markdown",
   "metadata": {},
   "source": [
    "### _1.4 Control Flow Tools: `break` and `continue`_\n",
    "\n",
    "We can further control the loops by using the `break` and `continue` statements.\n",
    "\n",
    "`break` statement will stop the current iteration and skip all the rest of the iterations.\n",
    "\n",
    "#### ~ Example ~\n",
    "\n",
    "Predict the outcome of the following two programs. What's the difference and why?"
   ]
  },
  {
   "cell_type": "code",
   "execution_count": null,
   "metadata": {
    "scrolled": true
   },
   "outputs": [],
   "source": [
    "# predict the outcome before executing the following program\n",
    "\n",
    "x = 0\n",
    "\n",
    "while x < 10:\n",
    "    print(x)\n",
    "    if x == 5:\n",
    "        break\n",
    "    x += 1"
   ]
  },
  {
   "cell_type": "code",
   "execution_count": null,
   "metadata": {},
   "outputs": [],
   "source": [
    "# predict the outcome before executing the following program\n",
    "\n",
    "x = 0\n",
    "\n",
    "while x < 10:\n",
    "    if x == 5:\n",
    "        break\n",
    "    print(x)\n",
    "    x += 1"
   ]
  },
  {
   "cell_type": "markdown",
   "metadata": {},
   "source": [
    "`continue` statement will stop the current iteration and continue with the next round of iteration.\n",
    "\n",
    "#### ~ Example ~"
   ]
  },
  {
   "cell_type": "code",
   "execution_count": null,
   "metadata": {},
   "outputs": [],
   "source": [
    "# predict the outcome before executing the following program\n",
    "\n",
    "x = 0\n",
    "\n",
    "while x < 10:\n",
    "    x += 1\n",
    "    if x == 5:\n",
    "        continue\n",
    "    print(x)"
   ]
  },
  {
   "cell_type": "markdown",
   "metadata": {},
   "source": [
    "## Section 2 - `for` Loop\n",
    "\n",
    "`for` loops can be used in two ways. The first one is \n",
    "\n",
    "### 2.1 _`for` loop to iterate using items in a collection_\n",
    "\n",
    "In computer science, a collection or container is a grouping of some variable number of data items. So far in python language we have learnt about `str` type which refers to ordered series of characters. In the later chapters we will learn about `tuple`, `list` or `dictionary` which are other forms of collections.\n",
    "\n",
    "Sometimes we may want to iterate through the various items in a collection, that is when `for` loop comes in handy.\n",
    "\n",
    "Syntax of `for` loop (iterate using items):\n",
    "\n",
    "```python\n",
    "for item in collection:\n",
    "    perform_some_action\n",
    "```\n",
    "\n",
    "#### ~ Example ~\n"
   ]
  },
  {
   "cell_type": "code",
   "execution_count": null,
   "metadata": {},
   "outputs": [],
   "source": [
    "str1 = \"Hello World!\"\n",
    "\n",
    "for char in str1:\n",
    "    print(char)"
   ]
  },
  {
   "cell_type": "markdown",
   "metadata": {},
   "source": [
    "#### - Exercise -\n",
    "\n",
    "Loop through each character in the string. Count the number of characters that are digits, alphabets and others respectively."
   ]
  },
  {
   "cell_type": "code",
   "execution_count": 5,
   "metadata": {},
   "outputs": [
    {
     "name": "stdout",
     "output_type": "stream",
     "text": [
      "Alphabets:  531\n",
      "Digits:  15\n",
      "Others:  133\n"
     ]
    }
   ],
   "source": [
    "long_str = \"\"\"\n",
    "Quoted from Wikipedia.\n",
    "Singapore, officially the Republic of Singapore, is an island city-state in Southeast Asia. \n",
    "It lies one degree (137 kilometres or 85 miles) north of the equator, at the southern tip of the Malay Peninsula,\n",
    "with Indonesia's Riau Islands to the south and Peninsular Malaysia to the north.\n",
    "Singapore's territory consists of one main island along with 62 other islets.\n",
    "Since independence, extensive land reclamation has increased its total size by 23% (130 square kilometres or 50 square miles).\n",
    "The country is known for its transition from a developing to a developed one in a single generation\n",
    "under the leadership of its founding father, Lee Kuan Yew.[8]\n",
    "\"\"\"\n",
    "\n",
    "digit_count = 0\n",
    "alphabet_count = 0\n",
    "other_count = 0\n",
    "\n",
    "# your code for Exercise\n",
    "for i in long_str:\n",
    "    if i.isalpha():\n",
    "        alphabet_count += 1\n",
    "    elif i.isdigit():\n",
    "        digit_count += 1\n",
    "    else:\n",
    "        other_count += 1\n",
    "\n",
    "print(\"Alphabets: \", alphabet_count)\n",
    "print(\"Digits: \", digit_count)\n",
    "print(\"Others: \", other_count)"
   ]
  },
  {
   "cell_type": "markdown",
   "metadata": {},
   "source": [
    "### 2.2 _`range()` function_\n",
    "\n",
    "The `range()` function returns a sequence of numbers, starting from 0 by default, and increments by 1 (by default), and ends at a specified number.\n",
    "\n",
    "Syntax of `range()` funcion:\n",
    "\n",
    "```python\n",
    "range(start, stop, step)\n",
    "```\n",
    "\n",
    "Similar to string slicing operations, `range()` function also takes in `start`, `stop` and `step` values.\n",
    "\n",
    "#### ~ Example ~\n"
   ]
  },
  {
   "cell_type": "code",
   "execution_count": 4,
   "metadata": {
    "scrolled": false
   },
   "outputs": [
    {
     "name": "stdout",
     "output_type": "stream",
     "text": [
      "range with only \"stop\" value\n",
      "(0, 1, 2, 3, 4)\n"
     ]
    }
   ],
   "source": [
    "# range with only \"stop\" value\n",
    "print('range with only \"stop\" value')\n",
    "print(list(range(5)))"
   ]
  },
  {
   "cell_type": "code",
   "execution_count": 5,
   "metadata": {},
   "outputs": [
    {
     "name": "stdout",
     "output_type": "stream",
     "text": [
      "range with \"start\" and \"stop\" value\n",
      "(5, 6, 7, 8, 9)\n"
     ]
    }
   ],
   "source": [
    "# range with \"start\" and \"stop\" value\n",
    "print('range with \"start\" and \"stop\" value')\n",
    "print(list(range(5, 10)))"
   ]
  },
  {
   "cell_type": "code",
   "execution_count": 6,
   "metadata": {},
   "outputs": [
    {
     "name": "stdout",
     "output_type": "stream",
     "text": [
      "range with \"start\", \"stop\" and \"step\" value\n",
      "(5, 7, 9)\n"
     ]
    }
   ],
   "source": [
    "# range with \"start\", \"stop\" and \"step\" value\n",
    "print('range with \"start\", \"stop\" and \"step\" value')\n",
    "print(list(range(5, 10, 2)))"
   ]
  },
  {
   "cell_type": "markdown",
   "metadata": {},
   "source": [
    "### 2.3 _`for` loop to iterate using index_\n",
    "\n",
    "Combining with the `range()` function, we can create for loops to iterate using the index values of a sequence.\n",
    "\n",
    "#### ~ Example ~\n"
   ]
  },
  {
   "cell_type": "code",
   "execution_count": null,
   "metadata": {},
   "outputs": [],
   "source": [
    "str1 = \"Hello World!\"\n",
    "\n",
    "for i in range(len(str1)):\n",
    "    print(str1[i])"
   ]
  },
  {
   "cell_type": "markdown",
   "metadata": {},
   "source": [
    "#### - Exercise -\n",
    "\n",
    "Calculate the sum of square of integers from 1 to 100."
   ]
  },
  {
   "cell_type": "code",
   "execution_count": 3,
   "metadata": {},
   "outputs": [
    {
     "data": {
      "text/plain": [
       "338350"
      ]
     },
     "execution_count": 3,
     "metadata": {},
     "output_type": "execute_result"
    }
   ],
   "source": [
    "square_sum = sum([i*i for i in range(1, 101)])\n",
    "square_sum"
   ]
  },
  {
   "cell_type": "markdown",
   "metadata": {},
   "source": [
    "#### - Exercise -\n",
    "\n",
    "**Without** using string slicing operations, create a new string in the reverse order using `for` loop."
   ]
  },
  {
   "cell_type": "code",
   "execution_count": 4,
   "metadata": {},
   "outputs": [
    {
     "data": {
      "text/plain": [
       "'!dlroW olleH'"
      ]
     },
     "execution_count": 4,
     "metadata": {},
     "output_type": "execute_result"
    }
   ],
   "source": [
    "string = \"Hello World!\"\n",
    "reversed_string = \"\"\n",
    "\n",
    "# Insert your solution here\n",
    "for char in range(len(string) - 1, -1, -1):\n",
    "    reversed_string += string[char]\n",
    "\n",
    "reversed_string"
   ]
  },
  {
   "cell_type": "markdown",
   "metadata": {},
   "source": [
    "### 2.4 _Comparison between `for` loop and `while` loop_\n",
    "\n",
    "A `while` loops is more flexible, it can be used to repeat a specific block of code an **unknown** number of times, until a condition is met.\n",
    "\n",
    "On the other hand, to make use of `for` loops, we **must** know exactly how many times to execute the particular section of code."
   ]
  }
 ],
 "metadata": {
  "kernelspec": {
   "display_name": "venv",
   "language": "python",
   "name": "python3"
  },
  "language_info": {
   "codemirror_mode": {
    "name": "ipython",
    "version": 3
   },
   "file_extension": ".py",
   "mimetype": "text/x-python",
   "name": "python",
   "nbconvert_exporter": "python",
   "pygments_lexer": "ipython3",
   "version": "3.13.1"
  }
 },
 "nbformat": 4,
 "nbformat_minor": 2
}
