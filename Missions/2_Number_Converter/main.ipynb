{
 "cells": [
  {
   "cell_type": "code",
   "execution_count": null,
   "metadata": {},
   "outputs": [],
   "source": [
    "def bin_to_den(binary):\n",
    "    decimal = 0\n",
    "    for digit in binary:\n",
    "        decimal = decimal * 2 + int(digit)\n",
    "    return decimal"
   ]
  },
  {
   "cell_type": "code",
   "execution_count": null,
   "metadata": {},
   "outputs": [],
   "source": [
    "def bin_to_den(binary):\n",
    "    decimal = 0\n",
    "    i = 0\n",
    "    while i < len(binary):\n",
    "        decimal = decimal * 2 + int(binary[i])\n",
    "        i += 1\n",
    "    return decimal"
   ]
  },
  {
   "cell_type": "code",
   "execution_count": null,
   "metadata": {},
   "outputs": [],
   "source": [
    "def bin_to_den(binary):\n",
    "    if len(binary) == 0:\n",
    "        return 0\n",
    "    \n",
    "    return bin_to_den(binary[:-1]) * 2 + int(binary[-1])"
   ]
  },
  {
   "cell_type": "code",
   "execution_count": null,
   "metadata": {},
   "outputs": [],
   "source": [
    "def den_to_bin(decimal):\n",
    "    if decimal == 0:\n",
    "        return \"0\"\n",
    "    \n",
    "    binary = \"\"\n",
    "    \n",
    "    while decimal > 0:\n",
    "        remainder = decimal % 2\n",
    "        binary = str(remainder) + binary\n",
    "        decimal = decimal // 2\n",
    "        \n",
    "    return binary"
   ]
  },
  {
   "cell_type": "code",
   "execution_count": null,
   "metadata": {},
   "outputs": [],
   "source": [
    "def den_to_bin(decimal):\n",
    "    if decimal == 0:\n",
    "        return \"0\"\n",
    "    \n",
    "    def recursive_convert(n):\n",
    "        if n == 0:\n",
    "            return \"\"\n",
    "        return recursive_convert(n // 2) + str(n % 2)\n",
    "    \n",
    "    return recursive_convert(decimal)"
   ]
  },
  {
   "cell_type": "code",
   "execution_count": null,
   "metadata": {},
   "outputs": [],
   "source": [
    "valid_digits = \"0123456789ABCDEFGHIJKLMNOPQRSTUVWXYZ\"\n",
    "\n",
    "def value_to_symbol(value):\n",
    "    return valid_digits[value]\n",
    "\n",
    "def symbol_to_value(symbol):\n",
    "    return valid_digits.index(symbol)"
   ]
  },
  {
   "cell_type": "code",
   "execution_count": null,
   "metadata": {},
   "outputs": [],
   "source": [
    "def any_to_den(any_num, base):\n",
    "    if len(any_num) == 0:\n",
    "        return 0\n",
    "    \n",
    "    def symbol_to_value(symbol):\n",
    "        valid_digits = \"0123456789ABCDEFGHIJKLMNOPQRSTUVWXYZ\"\n",
    "        return valid_digits.index(symbol)\n",
    "    \n",
    "    return any_to_den(any_num[:-1], base) * base + symbol_to_value(any_num[-1])"
   ]
  },
  {
   "cell_type": "code",
   "execution_count": null,
   "metadata": {},
   "outputs": [],
   "source": [
    "def den_to_any(den_num, base):\n",
    "    if den_num == 0:\n",
    "        return \"0\"\n",
    "    \n",
    "    def value_to_symbol(value):\n",
    "        valid_digits = \"0123456789ABCDEFGHIJKLMNOPQRSTUVWXYZ\"\n",
    "        return valid_digits[value]\n",
    "    \n",
    "    def recursive_convert(n):\n",
    "        if n == 0:\n",
    "            return \"\"\n",
    "        return recursive_convert(n // base) + value_to_symbol(n % base)\n",
    "    \n",
    "    return recursive_convert(den_num)"
   ]
  }
 ],
 "metadata": {
  "language_info": {
   "name": "python"
  }
 },
 "nbformat": 4,
 "nbformat_minor": 2
}
