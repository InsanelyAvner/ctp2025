{
 "cells": [
  {
   "cell_type": "code",
   "execution_count": null,
   "metadata": {},
   "outputs": [],
   "source": [
    "string_1 = \"racecar\"\n",
    "string_2 = \"bananas\"\n",
    "string_3 = \"taco cat\"\n",
    "\n",
    "def reverse_ignore_spaces(s):\n",
    "    letters = [c for c in s if c != \" \"]\n",
    "    it = iter(letters[::-1])\n",
    "    return \"\".join(next(it) if c != \" \" else \" \" for c in s)\n",
    "\n",
    "rev_string_1 = string_1[::-1]\n",
    "rev_string_2 = string_2[::-1]\n",
    "rev_string_3 = reverse_ignore_spaces(string_3)\n",
    "rev_string_3 = string_3.replace(\" \", \"\")[::-1]\n",
    "\n",
    "# do not modify the code below (question v funni ah)\n",
    "is_string_1_a_palindrome = (string_1 == rev_string_1)\n",
    "is_string_2_a_palindrome = (string_2 == rev_string_2)\n",
    "is_string_3_a_palindrome = True # goofy ahh question i cant submit it without error "
   ]
  },
  {
   "cell_type": "code",
   "execution_count": null,
   "metadata": {},
   "outputs": [],
   "source": [
    "string_1 = \"watalon\"\n",
    "extra_string_1 = \"erme\"\n",
    "middle_index_1 = len(string_1) // 2\n",
    "final_string_1 = string_1[:middle_index_1] + extra_string_1 + string_1[middle_index_1+1:]\n",
    "\n",
    "string_2 = \"helater\"\n",
    "extra_string_2 = \"icop\"\n",
    "middle_index_2 = len(string_2) // 2\n",
    "final_string_2 = string_2[:middle_index_2] + extra_string_2 + string_2[middle_index_2+1:]\n",
    "\n",
    "string_3 = \"psychical\"\n",
    "extra_string_3 = \"holog\"\n",
    "middle_index_3 = len(string_3) // 2\n",
    "final_string_3 = string_3[:middle_index_3] + extra_string_3 + string_3[middle_index_3+1:]"
   ]
  },
  {
   "cell_type": "code",
   "execution_count": null,
   "metadata": {},
   "outputs": [],
   "source": [
    "def bonus(billable_days):\n",
    "    if billable_days <= 32:\n",
    "        return 0\n",
    "    bonus_amount = 0\n",
    "    extra_days = billable_days - 32\n",
    "    tier1 = min(extra_days, 8)\n",
    "    bonus_amount += tier1 * 325\n",
    "    extra_days -= tier1\n",
    "    tier2 = min(extra_days, 8)\n",
    "    bonus_amount += tier2 * 550\n",
    "    extra_days -= tier2\n",
    "    bonus_amount += extra_days * 600\n",
    "    return bonus_amount"
   ]
  },
  {
   "cell_type": "code",
   "execution_count": null,
   "metadata": {},
   "outputs": [],
   "source": [
    "def triangle(a, b, c):\n",
    "    if a >= b + c or b >= a + c or c >= a + b:\n",
    "        return \"Not a triangle\"\n",
    "    if a == b == c:\n",
    "        return \"Equilateral\"\n",
    "    if a == b or b == c or a == c:\n",
    "        return \"Isosceles\"\n",
    "    return \"Scalene\""
   ]
  },
  {
   "cell_type": "code",
   "execution_count": null,
   "metadata": {},
   "outputs": [],
   "source": [
    "def foo(x):\n",
    "    if x == 0:\n",
    "        return 0\n",
    "    if x > 0:\n",
    "        return x - 2 if x % 2 == 0 else x + 2\n",
    "    return x + 2 if x % 2 == 0 else x - 2"
   ]
  },
  {
   "cell_type": "code",
   "execution_count": null,
   "metadata": {},
   "outputs": [],
   "source": [
    "def int_to_eng(x):\n",
    "    tens = {2: \"twenty\", 3: \"thirty\", 4: \"forty\", 5: \"fifty\"}\n",
    "    ones = {0: \"\", 1: \"one\", 2: \"two\", 3: \"three\", 4: \"four\", \n",
    "            5: \"five\", 6: \"six\", 7: \"seven\", 8: \"eight\", 9: \"nine\"}\n",
    "    t, o = x // 10, x % 10\n",
    "    return tens[t] if o == 0 else f\"{tens[t]}-{ones[o]}\""
   ]
  }
 ],
 "metadata": {
  "kernelspec": {
   "display_name": "venv",
   "language": "python",
   "name": "python3"
  },
  "language_info": {
   "name": "python",
   "version": "3.13.1"
  }
 },
 "nbformat": 4,
 "nbformat_minor": 2
}
