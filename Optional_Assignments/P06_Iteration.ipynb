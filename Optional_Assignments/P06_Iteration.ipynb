{
 "cells": [
  {
   "cell_type": "code",
   "execution_count": null,
   "metadata": {},
   "outputs": [],
   "source": [
    "def check_prime(n):\n",
    "    if n <= 1:\n",
    "        return False\n",
    "    if n <= 3:\n",
    "        return True\n",
    "    if n % 2 == 0 or n % 3 == 0:\n",
    "        return False\n",
    "    i = 5\n",
    "    while i * i <= n:\n",
    "        if n % i == 0 or n % (i + 2) == 0:\n",
    "            return False\n",
    "        i += 6\n",
    "    return True"
   ]
  },
  {
   "cell_type": "code",
   "execution_count": null,
   "metadata": {},
   "outputs": [],
   "source": [
    "def find_all_prime(n):\n",
    "    if n < 2:\n",
    "        return \"\"\n",
    "    sieve = [True] * (n + 1)\n",
    "    sieve[0:2] = [False, False]\n",
    "    for i in range(2, int(n ** 0.5) + 1):\n",
    "        if sieve[i]:\n",
    "            for j in range(i * i, n + 1, i):\n",
    "                sieve[j] = False\n",
    "    return \" \".join(str(i) for i, prime in enumerate(sieve) if prime)"
   ]
  },
  {
   "cell_type": "code",
   "execution_count": null,
   "metadata": {},
   "outputs": [],
   "source": [
    "def odd_even_count(numbers, choice):\n",
    "    if choice == \"even\":\n",
    "        return sum(1 for c in numbers if int(c) % 2 == 0)\n",
    "    if choice == \"odd\":\n",
    "        return sum(1 for c in numbers if int(c) % 2 != 0)\n",
    "    return 0\n",
    "numbers = \"123456789\"\n",
    "numbers_2 = \"13579\"\n",
    "odd_even_count(numbers, \"odd\")\n",
    "odd_even_count(numbers_2, \"even\")"
   ]
  },
  {
   "cell_type": "code",
   "execution_count": null,
   "metadata": {},
   "outputs": [],
   "source": [
    "def neg_summation(n):\n",
    "    if n >= 0:\n",
    "        return None\n",
    "    return sum(range(n, 0))\n",
    "neg_summation(-5)"
   ]
  },
  {
   "cell_type": "code",
   "execution_count": null,
   "metadata": {},
   "outputs": [],
   "source": [
    "test1 = \"\"\"\n",
    "*\n",
    "* *\n",
    "* * *\n",
    "* *\n",
    "*\n",
    "\"\"\"[1:-1]\n",
    "test2 = \"\"\"\n",
    "*\n",
    "* *\n",
    "* * *\n",
    "* * * *\n",
    "* * * * *\n",
    "* * * *\n",
    "* * *\n",
    "* *\n",
    "*\n",
    "\"\"\"[1:-1]\n",
    "#Do not change the above code\n",
    "def star_pattern(n):\n",
    "    pattern = \"\"\n",
    "    for i in range(1, n + 1):\n",
    "        for j in range(i):\n",
    "            pattern += \"*\"\n",
    "            if j != i - 1:\n",
    "                pattern += \" \"\n",
    "        pattern += \"\\n\"\n",
    "    for i in range(n - 1, 0, -1):\n",
    "        for j in range(i):\n",
    "            pattern += \"*\"\n",
    "            if j != i - 1:\n",
    "                pattern += \" \"\n",
    "        pattern += \"\\n\"\n",
    "    return pattern.strip()"
   ]
  },
  {
   "cell_type": "code",
   "execution_count": null,
   "metadata": {},
   "outputs": [],
   "source": [
    "def shuffle_cards(n, instructions):\n",
    "    deck = list(range(n))\n",
    "    for ins in instructions:\n",
    "        if ins == 'A':\n",
    "            deck.append(deck.pop(0))\n",
    "        elif ins == 'B':\n",
    "            deck.append(deck.pop(1))\n",
    "        elif ins == 'C':\n",
    "            deck.reverse()\n",
    "    return \" \".join(str(card) for card in deck)"
   ]
  },
  {
   "cell_type": "code",
   "execution_count": null,
   "metadata": {},
   "outputs": [],
   "source": [
    "message1 = \"When Halls Answer Tingling Sensations\"\n",
    "message2 = \"Falling Over and Under the Rain\"\n",
    "message3 = \"Pictures are Lost Under the hot Summer weather\"\n",
    "message4 = \"FOr Us to Remember his name\"\n",
    "# implement the following function\n",
    "def extract_capital_letters(message):\n",
    "    return \"\".join(\"\".join(ch for ch in word if ch.isupper()) for word in message.split())\n",
    "word_part_1 = extract_capital_letters(message1) + \" \"\n",
    "word_part_2 = extract_capital_letters(message2) + \" \"\n",
    "word_part_3 = extract_capital_letters(message3) + \" \"\n",
    "word_part_4 = extract_capital_letters(message4)\n",
    "# \n",
    "final_phrase = word_part_1 + word_part_2 + word_part_3 + word_part_4\n",
    "number_unlock = 8"
   ]
  }
 ],
 "metadata": {
  "language_info": {
   "name": "python"
  }
 },
 "nbformat": 4,
 "nbformat_minor": 2
}
